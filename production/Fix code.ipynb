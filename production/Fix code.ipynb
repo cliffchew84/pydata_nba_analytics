{
 "cells": [
  {
   "cell_type": "code",
   "execution_count": 1,
   "metadata": {
    "collapsed": true
   },
   "outputs": [],
   "source": [
    "from bs4 import BeautifulSoup as bs\n",
    "import pandas as pd\n",
    "import datetime\n",
    "import warnings\n",
    "import requests\n",
    "import json\n",
    "import sys\n",
    "import os\n",
    "\n",
    "pd.set_option('display.max_columns', 500)\n",
    "warnings.filterwarnings('ignore')"
   ]
  },
  {
   "cell_type": "code",
   "execution_count": 2,
   "metadata": {
    "collapsed": true
   },
   "outputs": [],
   "source": [
    "from selenium.webdriver.firefox.firefox_binary import FirefoxBinary\n",
    "from selenium.webdriver.common.proxy import Proxy, ProxyType\n",
    "from selenium import webdriver\n",
    "\n",
    "proxy_address = \"127.0.0.1:9150\"\n",
    "\n",
    "# Setting up my Tor initialization\n",
    "if sys.platform==\"win32\":\n",
    "    tor = r'C:\\Users\\cliffchew84\\Desktop\\Tor Browser\\Browser\\firefox'\n",
    "else:\n",
    "    tor = r'/Applications/TorBrowser.app/Contents/MacOS/firefox'"
   ]
  },
  {
   "cell_type": "markdown",
   "metadata": {},
   "source": [
    "#### Functions "
   ]
  },
  {
   "cell_type": "code",
   "execution_count": 3,
   "metadata": {
    "collapsed": true
   },
   "outputs": [],
   "source": [
    "def json_to_table(json):\n",
    "    \"\"\"Consume the json and format them into their respective tables\"\"\"\n",
    "    df = dict()\n",
    "    for i in range(0, len(json[\"resultSets\"])):\n",
    "        holder = pd.DataFrame()\n",
    "        tmp1 = pd.DataFrame()\n",
    "        tmp2 = pd.DataFrame()\n",
    "\n",
    "        # print testson[\"resultSets\"][i][\"headers\"]\n",
    "        tmp1 = pd.DataFrame(json[\"resultSets\"][i][\"headers\"]).T\n",
    "        holder = holder.append(tmp1)\n",
    "\n",
    "        # print testson[\"resultSets\"][i][\"rowSet\"]\n",
    "        tmp2 = pd.DataFrame(json[\"resultSets\"][i][\"rowSet\"])\n",
    "\n",
    "        # Create holder and multiple tables!\n",
    "        holder = holder.append(tmp2)\n",
    "        df[i] = holder\n",
    "    return df"
   ]
  },
  {
   "cell_type": "code",
   "execution_count": 4,
   "metadata": {
    "collapsed": true
   },
   "outputs": [],
   "source": [
    "def format_table(table):\n",
    "    \"\"\"Get the column names proper! \"\"\"\n",
    "    table.columns = table.iloc[0]\n",
    "    table = table[1:]\n",
    "    return table"
   ]
  },
  {
   "cell_type": "markdown",
   "metadata": {},
   "source": [
    "### Load existing tables if they exist!"
   ]
  },
  {
   "cell_type": "code",
   "execution_count": 5,
   "metadata": {
    "collapsed": true
   },
   "outputs": [],
   "source": [
    "try:\n",
    "    # First part\n",
    "    main_players = pd.read_csv(\"main_players_2017.csv\", dtype={'GAME_ID': str})\n",
    "    main_players[\"GAME_ID\"] = [str(i).zfill(10) for i in main_players[\"GAME_ID\"]]\n",
    "    \n",
    "    main_team = pd.read_csv(\"team_2017.csv\", dtype={'GAME_ID': str})\n",
    "    main_team[\"GAME_ID\"] = [str(i).zfill(10) for i in main_team[\"GAME_ID\"]]\n",
    "    \n",
    "    main_start_bench = pd.read_csv(\"start_bench_2017.csv\", dtype={'GAME_ID': str})\n",
    "    main_start_bench[\"GAME_ID\"] = [str(i).zfill(10) for i in main_start_bench[\"GAME_ID\"]]\n",
    "   \n",
    "    # Second part\n",
    "    main_more_team_stats = pd.read_csv(\"more_team_stats_2017.csv\", dtype={'GAME_ID': str})\n",
    "    main_more_team_stats[\"GAME_ID\"] = [str(i).zfill(10) for i in main_more_team_stats[\"GAME_ID\"]]\n",
    "    \n",
    "    main_referees = pd.read_csv(\"referees_2017.csv\", dtype={'GAME_ID': str})\n",
    "    main_referees[\"GAME_ID\"] = [str(i).zfill(10) for i in main_referees[\"GAME_ID\"]]\n",
    "    \n",
    "    main_game_date = pd.read_csv(\"game_date_2017.csv\", dtype={'GAME_ID': str})\n",
    "    main_game_date[\"GAME_ID\"] = [str(i).zfill(10) for i in main_game_date[\"GAME_ID\"]]\n",
    "\n",
    "    # Third Part\n",
    "    main_home_away = pd.read_csv(\"more_home_away_2017.csv\", dtype={'GAME_ID': str})\n",
    "    main_home_away[\"GAME_ID\"] = [str(i).zfill(10) for i in main_home_away[\"GAME_ID\"]]\n",
    "    \n",
    "    main_wins_losses = pd.read_csv(\"more_wins_losses_2017.csv\", dtype={'GAME_ID': str})\n",
    "    main_wins_losses[\"GAME_ID\"] = [str(i).zfill(10) for i in main_wins_losses[\"GAME_ID\"]]\n",
    "    \n",
    "    game_id_num = int(int(main_game_date.tail(1).GAME_ID)) + 1\n",
    "\n",
    "except:\n",
    "    main_players = pd.DataFrame()\n",
    "    main_team = pd.DataFrame()\n",
    "    main_start_bench = pd.DataFrame()\n",
    "    \n",
    "    main_more_team_stats = pd.DataFrame()\n",
    "    main_referees = pd.DataFrame()\n",
    "    main_game_date = pd.DataFrame()\n",
    "    \n",
    "    main_wins_losses = pd.DataFrame()    \n",
    "    main_home_away = pd.DataFrame()\n",
    "    \n",
    "    game_id_num = 21700001"
   ]
  },
  {
   "cell_type": "markdown",
   "metadata": {},
   "source": [
    "### Establishing Tor connection --> Only need to do this once at the start!\n",
    "- https://stackoverflow.com/questions/28307469/chrome-driver-needs-to-be-available-in-the-path-error-on-mac"
   ]
  },
  {
   "cell_type": "code",
   "execution_count": 6,
   "metadata": {
    "collapsed": true
   },
   "outputs": [],
   "source": [
    "if sys.platform==\"win32\":\n",
    "    browser = webdriver.Chrome('C:\\Users\\cliffchew84\\Desktop\\chromedriver_win32\\chromedriver.exe')\n",
    "else:\n",
    "    firefox_binary = FirefoxBinary(tor)\n",
    "    # browser = webdriver.Firefox(firefox_binary=firefox_binary)\n",
    "    browser = webdriver.Chrome(r\"/usr/local/bin/chromedriver\")"
   ]
  },
  {
   "cell_type": "code",
   "execution_count": 7,
   "metadata": {
    "collapsed": true
   },
   "outputs": [],
   "source": [
    "test_list = [\"0021700803\", ]"
   ]
  },
  {
   "cell_type": "code",
   "execution_count": 8,
   "metadata": {
    "collapsed": true
   },
   "outputs": [],
   "source": [
    "for i in test_list:\n",
    "    game_id = i\n",
    "    indepth_game_stats = \"http://stats.nba.com/stats/boxscoretraditionalv2?EndPeriod=10&EndRange=28800&GameID={}&RangeType=0&Season=2013-14&SeasonType=Regular+Season&StartPeriod=1&StartRange=0\".format(game_id)\n",
    "    \n",
    "    browser.get(indepth_game_stats)\n",
    "    soup = bs(browser.page_source)\n",
    "    if soup.text == u'An error has occurred.':\n",
    "        pass\n",
    "    else:\n",
    "        for i in soup.find_all(\"pre\"):\n",
    "            testson = json.loads(i.get_text())\n",
    "\n",
    "        df = json_to_table(testson)\n",
    "\n",
    "        players = format_table(df[0])\n",
    "        team = format_table(df[1])\n",
    "        start_bench = format_table(df[2])\n",
    "\n",
    "        # Combine to main tables\n",
    "        main_players = main_players.append(players)\n",
    "        main_team = main_team.append(team)\n",
    "        main_start_bench = main_start_bench.append(start_bench)"
   ]
  },
  {
   "cell_type": "markdown",
   "metadata": {},
   "source": [
    "##### Tables with more broad Data"
   ]
  },
  {
   "cell_type": "code",
   "execution_count": 9,
   "metadata": {
    "collapsed": true
   },
   "outputs": [],
   "source": [
    "for i in test_list:\n",
    "    game_id = i\n",
    "    game_gen = \"http://stats.nba.com/stats/boxscoresummaryv2?GameID={}\".format(game_id)\n",
    "\n",
    "    browser.get(game_gen)\n",
    "    soup2 = bs(browser.page_source)\n",
    "\n",
    "    #### Process table!\n",
    "    for i in soup2.find_all(\"pre\"):\n",
    "        test_test = json.loads(i.get_text())\n",
    "\n",
    "    df = json_to_table(test_test)\n",
    "\n",
    "    ##### Tracking useful games...\n",
    "    more_team_stats = format_table(df[1])\n",
    "    more_team_stats[\"GAME_ID\"] = unicode(game_id)\n",
    "\n",
    "    referees = format_table(df[2])\n",
    "    referees[\"GAME_ID\"] = unicode(game_id)\n",
    "\n",
    "    game_date = format_table(df[4])\n",
    "    game_date[\"GAME_ID\"] = unicode(game_id)\n",
    "    \n",
    "    # Part 3\n",
    "    home_away = format_table(df[0])\n",
    "    home_away[\"GAME_ID\"] = unicode(game_id)\n",
    "    \n",
    "    wins_losses = format_table(df[5])\n",
    "    wins_losses[\"GAME_ID\"] = unicode(game_id)\n",
    "\n",
    "    # Combine to the main tables\n",
    "    main_more_team_stats = main_more_team_stats.append(more_team_stats)\n",
    "    main_referees = main_referees.append(referees)\n",
    "    main_game_date = main_game_date.append(game_date)\n",
    "    \n",
    "    main_home_away = main_home_away.append(home_away)\n",
    "    main_wins_losses = main_wins_losses.append(wins_losses)"
   ]
  },
  {
   "cell_type": "markdown",
   "metadata": {},
   "source": [
    "#### Save all files locally! "
   ]
  },
  {
   "cell_type": "code",
   "execution_count": 10,
   "metadata": {
    "collapsed": true
   },
   "outputs": [],
   "source": [
    "main_players.to_csv(\"main_players_2017.csv\", index=False)\n",
    "main_team.drop_duplicates().to_csv(\"team_2017.csv\", index=False)\n",
    "main_start_bench.to_csv(\"start_bench_2017.csv\", index=False)\n",
    "\n",
    "main_more_team_stats.to_csv(\"more_team_stats_2017.csv\", index=False)\n",
    "main_referees.to_csv(\"referees_2017.csv\", index=False)\n",
    "main_game_date.to_csv(\"game_date_2017.csv\", index=False)\n",
    "\n",
    "main_home_away.to_csv(\"more_home_away_2017.csv\", index=False)\n",
    "main_wins_losses.to_csv(\"more_wins_losses_2017.csv\", index=False)"
   ]
  },
  {
   "cell_type": "markdown",
   "metadata": {},
   "source": [
    "##### Playoff games started on 16 Apil 2016 - 1230 is the last game!\n",
    "http://stats.nba.com/stats/boxscoretraditionalv2?EndPeriod=10&EndRange=28800&GameID=0041500111&RangeType=0&Season=2015-16&SeasonType=Playoffs&StartPeriod=1&StartRange=0"
   ]
  },
  {
   "cell_type": "code",
   "execution_count": 11,
   "metadata": {
    "collapsed": true
   },
   "outputs": [],
   "source": [
    "browser.close()"
   ]
  }
 ],
 "metadata": {
  "kernelspec": {
   "display_name": "Python 2",
   "language": "python",
   "name": "python2"
  },
  "language_info": {
   "codemirror_mode": {
    "name": "ipython",
    "version": 2
   },
   "file_extension": ".py",
   "mimetype": "text/x-python",
   "name": "python",
   "nbconvert_exporter": "python",
   "pygments_lexer": "ipython2",
   "version": "2.7.13"
  }
 },
 "nbformat": 4,
 "nbformat_minor": 1
}
