{
 "cells": [
  {
   "cell_type": "markdown",
   "metadata": {},
   "source": [
    "### Creating a monitoring framework"
   ]
  },
  {
   "cell_type": "code",
   "execution_count": 13,
   "metadata": {},
   "outputs": [
    {
     "data": {
      "text/html": [
       "<script>requirejs.config({paths: { 'plotly': ['https://cdn.plot.ly/plotly-latest.min']},});if(!window.Plotly) {{require(['plotly'],function(plotly) {window.Plotly=plotly;});}}</script>"
      ],
      "text/plain": [
       "<IPython.core.display.HTML object>"
      ]
     },
     "metadata": {},
     "output_type": "display_data"
    }
   ],
   "source": [
    "import os\n",
    "import glob\n",
    "import matplotlib\n",
    "import pandas as pd\n",
    "import matplotlib.pyplot as plt\n",
    "from plotly.graph_objs import Scatter, Bar, Figure, Layout\n",
    "from plotly.offline import download_plotlyjs, init_notebook_mode, plot, iplot\n",
    "init_notebook_mode(connected=True)"
   ]
  },
  {
   "cell_type": "code",
   "execution_count": 2,
   "metadata": {
    "collapsed": true
   },
   "outputs": [],
   "source": [
    "%matplotlib inline"
   ]
  },
  {
   "cell_type": "code",
   "execution_count": 42,
   "metadata": {
    "collapsed": true
   },
   "outputs": [],
   "source": [
    "df = pd.DataFrame()\n",
    "for i in glob.glob(\"*.csv\"):\n",
    "    tmp = pd.read_csv(i)\n",
    "    df = df.append(tmp)"
   ]
  },
  {
   "cell_type": "code",
   "execution_count": 53,
   "metadata": {
    "collapsed": true
   },
   "outputs": [],
   "source": [
    "df['year'] = '2018'\n",
    "df['mths'] = [int(i.split(\"-\")[1]) for i in df['d_filter']]\n",
    "df.loc[df['mths'] >= 10, 'year'] = '2017'\n",
    "df['date'] = df['d_filter'] + '-' + df['year']\n",
    "df = df[[ u'date', u'home', u'away', u'location', u'home_w', u'phome_w', u'pts_ta', u'pts_tb', u'predictions', u'p_score']]\n",
    "df['count'] = 1"
   ]
  },
  {
   "cell_type": "markdown",
   "metadata": {},
   "source": [
    "### Score by Per Day "
   ]
  },
  {
   "cell_type": "code",
   "execution_count": 67,
   "metadata": {
    "collapsed": true
   },
   "outputs": [],
   "source": [
    "percent = df.groupby([\"date\"])['p_score', 'count'].sum().reset_index()\n",
    "percent['percent'] = percent['p_score'] / percent['count'].astype(float)\n",
    "percent['date'] = pd.to_datetime(percent['date'], format=\"%d-%m-%Y\")\n",
    "percent = percent.sort_values(\"date\").reset_index(drop=True)"
   ]
  },
  {
   "cell_type": "markdown",
   "metadata": {},
   "source": [
    "### Agg score "
   ]
  },
  {
   "cell_type": "code",
   "execution_count": 70,
   "metadata": {
    "collapsed": true
   },
   "outputs": [],
   "source": [
    "agg_percent = percent[['p_score', 'count']].cumsum()\n",
    "agg_percent['a_percent'] = agg_percent['p_score'] / agg_percent['count'].astype(float)\n",
    "agg_percent['date'] = pd.to_datetime(percent['date'], format=\"%d-%m-%Y\")\n",
    "agg_percent = agg_percent.sort_values(\"date\").reset_index(drop=True)"
   ]
  },
  {
   "cell_type": "markdown",
   "metadata": {},
   "source": [
    "### Monitoring results "
   ]
  },
  {
   "cell_type": "code",
   "execution_count": 72,
   "metadata": {
    "scrolled": false
   },
   "outputs": [
    {
     "data": {
      "text/html": [
       "<div id=\"ac8aac90-c13a-4b23-973c-79c87cc9e5db\" style=\"height: 600px; width: 1100px;\" class=\"plotly-graph-div\"></div><script type=\"text/javascript\">require([\"plotly\"], function(Plotly) { window.PLOTLYENV=window.PLOTLYENV || {};window.PLOTLYENV.BASE_URL=\"https://plot.ly\";Plotly.newPlot(\"ac8aac90-c13a-4b23-973c-79c87cc9e5db\", [{\"y\": [0.625, 0.833, 0.7, 0.8, 0.714, 0.75, 0.571, 0.556, 0.5, 0.583, 1.0, 0.75, 0.6, 0.6, 0.667, 0.5, 1.0, 0.6, 0.625, 0.909, 1.0, 0.667, 0.667, 0.545, 1.0, 0.545, 0.714, 0.5, 0.727, 1.0, 0.714, 0.7, 0.8, 0.667, 0.5, 0.6, 0.7, 0.8, 0.875, 0.75, 0.8, 0.727, 0.667, 1.0, 0.75, 0.625, 0.6, 1.0, 0.333, 0.571, 0.667, 0.8, 0.545, 0.875, 0.5, 0.7, 0.667, 0.583, 0.6, 0.778, 0.615, 0.4, 0.75, 0.4, 0.8, 0.111, 0.286, 0.5, 1.0, 1.0, 0.75, 0.0, 0.8, 0.625, 0.6, 1.0, 0.5, 0.364, 0.75, 0.889, 0.571, 0.75, 0.273, 0.5, 0.8, 0.75, 0.286, 0.667, 0.25, 0.667, 0.6, 0.778, 0.75, 0.6, 1.0, 0.857, 0.833, 0.667, 0.75, 0.6, 0.778, 0.778, 0.667], \"x\": [\"2017-10-23 00:00:00\", \"2017-10-24 00:00:00\", \"2017-10-25 00:00:00\", \"2017-10-26 00:00:00\", \"2017-10-27 00:00:00\", \"2017-10-28 00:00:00\", \"2017-10-29 00:00:00\", \"2017-10-30 00:00:00\", \"2017-10-31 00:00:00\", \"2017-11-01 00:00:00\", \"2017-11-02 00:00:00\", \"2017-11-03 00:00:00\", \"2017-11-04 00:00:00\", \"2017-11-05 00:00:00\", \"2017-11-06 00:00:00\", \"2017-11-07 00:00:00\", \"2017-11-08 00:00:00\", \"2017-11-09 00:00:00\", \"2017-11-10 00:00:00\", \"2017-11-11 00:00:00\", \"2017-11-12 00:00:00\", \"2017-11-13 00:00:00\", \"2017-11-14 00:00:00\", \"2017-11-15 00:00:00\", \"2017-11-16 00:00:00\", \"2017-11-17 00:00:00\", \"2017-11-18 00:00:00\", \"2017-11-19 00:00:00\", \"2017-11-20 00:00:00\", \"2017-11-21 00:00:00\", \"2017-11-22 00:00:00\", \"2017-11-24 00:00:00\", \"2017-11-25 00:00:00\", \"2017-11-26 00:00:00\", \"2017-11-27 00:00:00\", \"2017-11-28 00:00:00\", \"2017-11-29 00:00:00\", \"2017-11-30 00:00:00\", \"2017-12-01 00:00:00\", \"2017-12-02 00:00:00\", \"2017-12-03 00:00:00\", \"2017-12-04 00:00:00\", \"2017-12-05 00:00:00\", \"2017-12-06 00:00:00\", \"2017-12-07 00:00:00\", \"2017-12-08 00:00:00\", \"2017-12-09 00:00:00\", \"2017-12-10 00:00:00\", \"2017-12-11 00:00:00\", \"2017-12-12 00:00:00\", \"2017-12-13 00:00:00\", \"2017-12-14 00:00:00\", \"2017-12-15 00:00:00\", \"2017-12-16 00:00:00\", \"2017-12-17 00:00:00\", \"2017-12-18 00:00:00\", \"2017-12-19 00:00:00\", \"2017-12-20 00:00:00\", \"2017-12-21 00:00:00\", \"2017-12-22 00:00:00\", \"2017-12-23 00:00:00\", \"2017-12-25 00:00:00\", \"2017-12-26 00:00:00\", \"2017-12-27 00:00:00\", \"2017-12-28 00:00:00\", \"2017-12-29 00:00:00\", \"2017-12-30 00:00:00\", \"2017-12-31 00:00:00\", \"2018-01-01 00:00:00\", \"2018-01-02 00:00:00\", \"2018-01-03 00:00:00\", \"2018-01-04 00:00:00\", \"2018-01-05 00:00:00\", \"2018-01-06 00:00:00\", \"2018-01-07 00:00:00\", \"2018-01-08 00:00:00\", \"2018-01-09 00:00:00\", \"2018-01-10 00:00:00\", \"2018-01-11 00:00:00\", \"2018-01-12 00:00:00\", \"2018-01-13 00:00:00\", \"2018-01-14 00:00:00\", \"2018-01-15 00:00:00\", \"2018-01-16 00:00:00\", \"2018-01-17 00:00:00\", \"2018-01-18 00:00:00\", \"2018-01-19 00:00:00\", \"2018-01-20 00:00:00\", \"2018-01-21 00:00:00\", \"2018-01-22 00:00:00\", \"2018-01-23 00:00:00\", \"2018-01-24 00:00:00\", \"2018-01-25 00:00:00\", \"2018-01-26 00:00:00\", \"2018-01-27 00:00:00\", \"2018-01-28 00:00:00\", \"2018-01-29 00:00:00\", \"2018-01-30 00:00:00\", \"2018-01-31 00:00:00\", \"2018-02-01 00:00:00\", \"2018-02-02 00:00:00\", \"2018-02-03 00:00:00\", \"2018-02-04 00:00:00\"], \"type\": \"scatter\", \"name\": \"Daily Ratio\", \"yaxis\": \"y1\"}, {\"y\": [0.625, 0.714, 0.708, 0.724, 0.722, 0.727, 0.706, 0.683, 0.672, 0.658, 0.667, 0.678, 0.674, 0.667, 0.667, 0.653, 0.667, 0.664, 0.662, 0.68, 0.689, 0.688, 0.687, 0.678, 0.682, 0.674, 0.675, 0.67, 0.673, 0.675, 0.677, 0.678, 0.683, 0.683, 0.677, 0.676, 0.676, 0.679, 0.684, 0.686, 0.688, 0.689, 0.689, 0.699, 0.699, 0.698, 0.695, 0.7, 0.694, 0.691, 0.691, 0.692, 0.688, 0.692, 0.69, 0.69, 0.69, 0.687, 0.686, 0.688, 0.686, 0.683, 0.684, 0.678, 0.679, 0.669, 0.663, 0.661, 0.663, 0.667, 0.669, 0.666, 0.669, 0.668, 0.667, 0.672, 0.671, 0.665, 0.666, 0.669, 0.668, 0.668, 0.661, 0.66, 0.662, 0.663, 0.659, 0.659, 0.656, 0.656, 0.656, 0.658, 0.658, 0.657, 0.661, 0.663, 0.664, 0.664, 0.665, 0.665, 0.666, 0.668, 0.668], \"x\": [\"2017-10-23 00:00:00\", \"2017-10-24 00:00:00\", \"2017-10-25 00:00:00\", \"2017-10-26 00:00:00\", \"2017-10-27 00:00:00\", \"2017-10-28 00:00:00\", \"2017-10-29 00:00:00\", \"2017-10-30 00:00:00\", \"2017-10-31 00:00:00\", \"2017-11-01 00:00:00\", \"2017-11-02 00:00:00\", \"2017-11-03 00:00:00\", \"2017-11-04 00:00:00\", \"2017-11-05 00:00:00\", \"2017-11-06 00:00:00\", \"2017-11-07 00:00:00\", \"2017-11-08 00:00:00\", \"2017-11-09 00:00:00\", \"2017-11-10 00:00:00\", \"2017-11-11 00:00:00\", \"2017-11-12 00:00:00\", \"2017-11-13 00:00:00\", \"2017-11-14 00:00:00\", \"2017-11-15 00:00:00\", \"2017-11-16 00:00:00\", \"2017-11-17 00:00:00\", \"2017-11-18 00:00:00\", \"2017-11-19 00:00:00\", \"2017-11-20 00:00:00\", \"2017-11-21 00:00:00\", \"2017-11-22 00:00:00\", \"2017-11-24 00:00:00\", \"2017-11-25 00:00:00\", \"2017-11-26 00:00:00\", \"2017-11-27 00:00:00\", \"2017-11-28 00:00:00\", \"2017-11-29 00:00:00\", \"2017-11-30 00:00:00\", \"2017-12-01 00:00:00\", \"2017-12-02 00:00:00\", \"2017-12-03 00:00:00\", \"2017-12-04 00:00:00\", \"2017-12-05 00:00:00\", \"2017-12-06 00:00:00\", \"2017-12-07 00:00:00\", \"2017-12-08 00:00:00\", \"2017-12-09 00:00:00\", \"2017-12-10 00:00:00\", \"2017-12-11 00:00:00\", \"2017-12-12 00:00:00\", \"2017-12-13 00:00:00\", \"2017-12-14 00:00:00\", \"2017-12-15 00:00:00\", \"2017-12-16 00:00:00\", \"2017-12-17 00:00:00\", \"2017-12-18 00:00:00\", \"2017-12-19 00:00:00\", \"2017-12-20 00:00:00\", \"2017-12-21 00:00:00\", \"2017-12-22 00:00:00\", \"2017-12-23 00:00:00\", \"2017-12-25 00:00:00\", \"2017-12-26 00:00:00\", \"2017-12-27 00:00:00\", \"2017-12-28 00:00:00\", \"2017-12-29 00:00:00\", \"2017-12-30 00:00:00\", \"2017-12-31 00:00:00\", \"2018-01-01 00:00:00\", \"2018-01-02 00:00:00\", \"2018-01-03 00:00:00\", \"2018-01-04 00:00:00\", \"2018-01-05 00:00:00\", \"2018-01-06 00:00:00\", \"2018-01-07 00:00:00\", \"2018-01-08 00:00:00\", \"2018-01-09 00:00:00\", \"2018-01-10 00:00:00\", \"2018-01-11 00:00:00\", \"2018-01-12 00:00:00\", \"2018-01-13 00:00:00\", \"2018-01-14 00:00:00\", \"2018-01-15 00:00:00\", \"2018-01-16 00:00:00\", \"2018-01-17 00:00:00\", \"2018-01-18 00:00:00\", \"2018-01-19 00:00:00\", \"2018-01-20 00:00:00\", \"2018-01-21 00:00:00\", \"2018-01-22 00:00:00\", \"2018-01-23 00:00:00\", \"2018-01-24 00:00:00\", \"2018-01-25 00:00:00\", \"2018-01-26 00:00:00\", \"2018-01-27 00:00:00\", \"2018-01-28 00:00:00\", \"2018-01-29 00:00:00\", \"2018-01-30 00:00:00\", \"2018-01-31 00:00:00\", \"2018-02-01 00:00:00\", \"2018-02-02 00:00:00\", \"2018-02-03 00:00:00\", \"2018-02-04 00:00:00\"], \"type\": \"scatter\", \"name\": \"Aggregrated Ratio\", \"yaxis\": \"y1\"}, {\"opacity\": 0.35, \"name\": \"Games Played\", \"yaxis\": \"y2\", \"y\": [8, 6, 10, 5, 7, 8, 7, 9, 4, 12, 2, 12, 5, 10, 3, 10, 5, 5, 8, 11, 4, 9, 3, 11, 2, 11, 7, 6, 11, 1, 14, 10, 10, 3, 8, 5, 10, 5, 8, 8, 5, 11, 3, 10, 4, 8, 10, 6, 6, 7, 9, 5, 11, 8, 4, 10, 3, 12, 5, 9, 13, 5, 8, 10, 5, 9, 7, 8, 4, 5, 12, 2, 10, 8, 5, 8, 4, 11, 4, 9, 7, 4, 11, 4, 10, 4, 7, 9, 4, 9, 5, 9, 4, 10, 7, 7, 6, 9, 8, 5, 9, 9, 6], \"x\": [\"2017-10-23 00:00:00\", \"2017-10-24 00:00:00\", \"2017-10-25 00:00:00\", \"2017-10-26 00:00:00\", \"2017-10-27 00:00:00\", \"2017-10-28 00:00:00\", \"2017-10-29 00:00:00\", \"2017-10-30 00:00:00\", \"2017-10-31 00:00:00\", \"2017-11-01 00:00:00\", \"2017-11-02 00:00:00\", \"2017-11-03 00:00:00\", \"2017-11-04 00:00:00\", \"2017-11-05 00:00:00\", \"2017-11-06 00:00:00\", \"2017-11-07 00:00:00\", \"2017-11-08 00:00:00\", \"2017-11-09 00:00:00\", \"2017-11-10 00:00:00\", \"2017-11-11 00:00:00\", \"2017-11-12 00:00:00\", \"2017-11-13 00:00:00\", \"2017-11-14 00:00:00\", \"2017-11-15 00:00:00\", \"2017-11-16 00:00:00\", \"2017-11-17 00:00:00\", \"2017-11-18 00:00:00\", \"2017-11-19 00:00:00\", \"2017-11-20 00:00:00\", \"2017-11-21 00:00:00\", \"2017-11-22 00:00:00\", \"2017-11-24 00:00:00\", \"2017-11-25 00:00:00\", \"2017-11-26 00:00:00\", \"2017-11-27 00:00:00\", \"2017-11-28 00:00:00\", \"2017-11-29 00:00:00\", \"2017-11-30 00:00:00\", \"2017-12-01 00:00:00\", \"2017-12-02 00:00:00\", \"2017-12-03 00:00:00\", \"2017-12-04 00:00:00\", \"2017-12-05 00:00:00\", \"2017-12-06 00:00:00\", \"2017-12-07 00:00:00\", \"2017-12-08 00:00:00\", \"2017-12-09 00:00:00\", \"2017-12-10 00:00:00\", \"2017-12-11 00:00:00\", \"2017-12-12 00:00:00\", \"2017-12-13 00:00:00\", \"2017-12-14 00:00:00\", \"2017-12-15 00:00:00\", \"2017-12-16 00:00:00\", \"2017-12-17 00:00:00\", \"2017-12-18 00:00:00\", \"2017-12-19 00:00:00\", \"2017-12-20 00:00:00\", \"2017-12-21 00:00:00\", \"2017-12-22 00:00:00\", \"2017-12-23 00:00:00\", \"2017-12-25 00:00:00\", \"2017-12-26 00:00:00\", \"2017-12-27 00:00:00\", \"2017-12-28 00:00:00\", \"2017-12-29 00:00:00\", \"2017-12-30 00:00:00\", \"2017-12-31 00:00:00\", \"2018-01-01 00:00:00\", \"2018-01-02 00:00:00\", \"2018-01-03 00:00:00\", \"2018-01-04 00:00:00\", \"2018-01-05 00:00:00\", \"2018-01-06 00:00:00\", \"2018-01-07 00:00:00\", \"2018-01-08 00:00:00\", \"2018-01-09 00:00:00\", \"2018-01-10 00:00:00\", \"2018-01-11 00:00:00\", \"2018-01-12 00:00:00\", \"2018-01-13 00:00:00\", \"2018-01-14 00:00:00\", \"2018-01-15 00:00:00\", \"2018-01-16 00:00:00\", \"2018-01-17 00:00:00\", \"2018-01-18 00:00:00\", \"2018-01-19 00:00:00\", \"2018-01-20 00:00:00\", \"2018-01-21 00:00:00\", \"2018-01-22 00:00:00\", \"2018-01-23 00:00:00\", \"2018-01-24 00:00:00\", \"2018-01-25 00:00:00\", \"2018-01-26 00:00:00\", \"2018-01-27 00:00:00\", \"2018-01-28 00:00:00\", \"2018-01-29 00:00:00\", \"2018-01-30 00:00:00\", \"2018-01-31 00:00:00\", \"2018-02-01 00:00:00\", \"2018-02-02 00:00:00\", \"2018-02-03 00:00:00\", \"2018-02-04 00:00:00\"], \"type\": \"bar\"}], {\"width\": 1100, \"title\": \"NBA Prediction Performance\", \"height\": 600, \"yaxis1\": {\"range\": [0.0, 1.1], \"side\": \"left\", \"title\": \"Model Accuracy (%)\"}, \"yaxis2\": {\"range\": [0, 50], \"side\": \"right\", \"overlaying\": \"y\", \"title\": \"Games Played\"}, \"xaxis\": {\"rangeselector\": {\"buttons\": [{\"count\": 1, \"step\": \"month\", \"stepmode\": \"backward\", \"label\": \"1m\"}, {\"step\": \"all\"}]}, \"type\": \"date\", \"rangeslider\": {}}, \"legend\": {\"y\": 1, \"x\": 0.05, \"orientation\": \"h\"}}, {\"linkText\": \"Export to plot.ly\", \"showLink\": true})});</script>"
      ],
      "text/plain": [
       "<IPython.core.display.HTML object>"
      ]
     },
     "metadata": {},
     "output_type": "display_data"
    }
   ],
   "source": [
    "# Create a trace\n",
    "time_series = [str(i) for i in percent['date'].tolist()]\n",
    "\n",
    "daily_ratio = Scatter(x = time_series, y = [round(i, 3) for i in percent['percent'].tolist()], name = \"Daily Ratio\", yaxis='y1')\n",
    "agg_ratio = Scatter(x = time_series, y = [round(i, 3) for i in agg_percent['a_percent'].tolist()], name = \"Aggregrated Ratio\", yaxis='y1')\n",
    "\n",
    "games_played = Bar(x = time_series, y = percent['count'].tolist(), \n",
    "                   name = \"Games Played\", yaxis='y2', opacity=0.35)\n",
    "\n",
    "layout = dict(title = 'NBA Prediction Performance', legend=dict(orientation='h', x=.05, y=1),\n",
    "              yaxis1=dict(title='Model Accuracy (%)', side='left', range=[0.0,1.1]),\n",
    "              yaxis2=dict(title='Games Played', overlaying='y', side='right', range=[0,50]), \n",
    "              width=1100, height=600,\n",
    "              xaxis=dict(\n",
    "        rangeselector=dict(\n",
    "            buttons=list([\n",
    "                dict(count=1,\n",
    "                     label='1m',\n",
    "                     step='month',\n",
    "                     stepmode='backward'),\n",
    "                dict(step='all')\n",
    "            ])\n",
    "        ),\n",
    "        rangeslider=dict(),\n",
    "        type='date'\n",
    "    )\n",
    "             )\n",
    "data = [daily_ratio, agg_ratio, games_played]\n",
    "\n",
    "fig = dict(data=data, layout=layout)\n",
    "iplot(fig)"
   ]
  },
  {
   "cell_type": "markdown",
   "metadata": {
    "collapsed": true
   },
   "source": [
    "### Upload the prediction files to Dropbox "
   ]
  },
  {
   "cell_type": "code",
   "execution_count": 8,
   "metadata": {
    "collapsed": true
   },
   "outputs": [],
   "source": [
    "base_folder = os.path.abspath(os.getcwd())\n",
    "os.chdir(\"..\")"
   ]
  },
  {
   "cell_type": "code",
   "execution_count": 9,
   "metadata": {
    "collapsed": true
   },
   "outputs": [],
   "source": [
    "from dropbox_functions import authenticate_into_dropbox\n",
    "from dropbox_functions import load_file_into_my_dropbox, download_file_from_dropbox\n",
    "account = authenticate_into_dropbox()"
   ]
  },
  {
   "cell_type": "code",
   "execution_count": 10,
   "metadata": {
    "collapsed": true
   },
   "outputs": [],
   "source": [
    "def upload_dropbx_data(account, files_to_shift):\n",
    "    for i in files_to_shift:\n",
    "        load_file_into_my_dropbox(account, i, folder=\"nba_games/predictions\")\n",
    "    print(\"Upload {}\".format(i))"
   ]
  },
  {
   "cell_type": "code",
   "execution_count": 11,
   "metadata": {
    "collapsed": true
   },
   "outputs": [],
   "source": [
    "os.chdir(base_folder)"
   ]
  },
  {
   "cell_type": "code",
   "execution_count": 12,
   "metadata": {},
   "outputs": [
    {
     "name": "stdout",
     "output_type": "stream",
     "text": [
      "Upload 2017-10-23_predictions.csv\n",
      "Upload 2017-10-24_predictions.csv\n",
      "Upload 2017-10-25_predictions.csv\n",
      "Upload 2017-10-26_predictions.csv\n",
      "Upload 2017-10-27_predictions.csv\n",
      "Upload 2017-10-28_predictions.csv\n",
      "Upload 2017-10-29_predictions.csv\n",
      "Upload 2017-10-30_predictions.csv\n",
      "Upload 2017-10-31_predictions.csv\n",
      "Upload 2017-11-01_predictions.csv\n",
      "Upload 2017-11-02_predictions.csv\n",
      "Upload 2017-11-03_predictions.csv\n",
      "Upload 2017-11-04_predictions.csv\n",
      "Upload 2017-11-05_predictions.csv\n",
      "Upload 2017-11-06_predictions.csv\n",
      "Upload 2017-11-07_predictions.csv\n",
      "Upload 2017-11-08_predictions.csv\n",
      "Upload 2017-11-09_predictions.csv\n",
      "Upload 2017-11-10_predictions.csv\n",
      "Upload 2017-11-11_predictions.csv\n",
      "Upload 2017-11-12_predictions.csv\n",
      "Upload 2017-11-13_predictions.csv\n",
      "Upload 2017-11-14_predictions.csv\n",
      "Upload 2017-11-15_predictions.csv\n",
      "Upload 2017-11-16_predictions.csv\n",
      "Upload 2017-11-17_predictions.csv\n",
      "Upload 2017-11-18_predictions.csv\n",
      "Upload 2017-11-19_predictions.csv\n",
      "Upload 2017-11-20_predictions.csv\n",
      "Upload 2017-11-21_predictions.csv\n",
      "Upload 2017-11-22_predictions.csv\n",
      "Upload 2017-11-24_predictions.csv\n",
      "Upload 2017-11-25_predictions.csv\n",
      "Upload 2017-11-26_predictions.csv\n",
      "Upload 2017-11-27_predictions.csv\n",
      "Upload 2017-11-28_predictions.csv\n",
      "Upload 2017-11-29_predictions.csv\n",
      "Upload 2017-11-30_predictions.csv\n",
      "Upload 2017-12-01_predictions.csv\n",
      "Upload 2017-12-02_predictions.csv\n",
      "Upload 2017-12-03_predictions.csv\n",
      "Upload 2017-12-04_predictions.csv\n",
      "Upload 2017-12-05_predictions.csv\n",
      "Upload 2017-12-06_predictions.csv\n",
      "Upload 2017-12-07_predictions.csv\n",
      "Upload 2017-12-08_predictions.csv\n",
      "Upload 2017-12-09_predictions.csv\n",
      "Upload 2017-12-10_predictions.csv\n",
      "Upload 2017-12-11_predictions.csv\n",
      "Upload 2017-12-12_predictions.csv\n",
      "Upload 2017-12-13_predictions.csv\n",
      "Upload 2017-12-14_predictions.csv\n",
      "Upload 2017-12-15_predictions.csv\n",
      "Upload 2017-12-16_predictions.csv\n",
      "Upload 2017-12-17_predictions.csv\n",
      "Upload 2017-12-18_predictions.csv\n",
      "Upload 2017-12-19_predictions.csv\n",
      "Upload 2017-12-20_predictions.csv\n",
      "Upload 2017-12-21_predictions.csv\n",
      "Upload 2017-12-22_predictions.csv\n",
      "Upload 2017-12-23_predictions.csv\n",
      "Upload 2017-12-25_predictions.csv\n",
      "Upload 2017-12-26_predictions.csv\n",
      "Upload 2017-12-27_predictions.csv\n",
      "Upload 2017-12-28_predictions.csv\n",
      "Upload 2017-12-29_predictions.csv\n",
      "Upload 2017-12-30_predictions.csv\n",
      "Upload 2017-12-31_predictions.csv\n",
      "Upload 2018-01-01_predictions.csv\n",
      "Upload 2018-01-02_predictions.csv\n",
      "Upload 2018-01-03_predictions.csv\n",
      "Upload 2018-01-04_predictions.csv\n",
      "Upload 2018-01-05_predictions.csv\n",
      "Upload 2018-01-06_predictions.csv\n",
      "Upload 2018-01-07_predictions.csv\n",
      "Upload 2018-01-08_predictions.csv\n",
      "Upload 2018-01-09_predictions.csv\n",
      "Upload 2018-01-10_predictions.csv\n",
      "Upload 2018-01-11_predictions.csv\n",
      "Upload 2018-01-12_predictions.csv\n",
      "Upload 2018-01-13_predictions.csv\n",
      "Upload 2018-01-14_predictions.csv\n",
      "Upload 2018-01-15_predictions.csv\n",
      "Upload 2018-01-16_predictions.csv\n",
      "Upload 2018-01-17_predictions.csv\n",
      "Upload 2018-01-18_predictions.csv\n",
      "Upload 2018-01-19_predictions.csv\n",
      "Upload 2018-01-20_predictions.csv\n",
      "Upload 2018-01-21_predictions.csv\n",
      "Upload 2018-01-22_predictions.csv\n",
      "Upload 2018-01-23_predictions.csv\n",
      "Upload 2018-01-24_predictions.csv\n",
      "Upload 2018-01-25_predictions.csv\n",
      "Upload 2018-01-26_predictions.csv\n",
      "Upload 2018-01-27_predictions.csv\n",
      "Upload 2018-01-28_predictions.csv\n",
      "Upload 2018-01-29_predictions.csv\n",
      "Upload 2018-01-30_predictions.csv\n",
      "Upload 2018-01-31_predictions.csv\n",
      "Upload 2018-02-01_predictions.csv\n",
      "Upload 2018-02-02_predictions.csv\n",
      "Upload 2018-02-03_predictions.csv\n",
      "Upload 2018-02-04_predictions.csv\n"
     ]
    }
   ],
   "source": [
    "for i in glob.glob(\"*.csv\"):\n",
    "    load_file_into_my_dropbox(account, i)\n",
    "    print(\"Upload {}\".format(i))"
   ]
  }
 ],
 "metadata": {
  "kernelspec": {
   "display_name": "Python 2",
   "language": "python",
   "name": "python2"
  },
  "language_info": {
   "codemirror_mode": {
    "name": "ipython",
    "version": 2
   },
   "file_extension": ".py",
   "mimetype": "text/x-python",
   "name": "python",
   "nbconvert_exporter": "python",
   "pygments_lexer": "ipython2",
   "version": "2.7.13"
  }
 },
 "nbformat": 4,
 "nbformat_minor": 2
}
