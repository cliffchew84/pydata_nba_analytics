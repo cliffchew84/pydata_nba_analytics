{
 "cells": [
  {
   "cell_type": "code",
   "execution_count": 86,
   "metadata": {
    "collapsed": true
   },
   "outputs": [],
   "source": [
    "import os\n",
    "import time\n",
    "import datetime\n",
    "import urllib2\n",
    "import numpy as np\n",
    "import pandas as pd\n",
    "from bs4 import BeautifulSoup as bs"
   ]
  },
  {
   "cell_type": "code",
   "execution_count": 2,
   "metadata": {
    "collapsed": true
   },
   "outputs": [],
   "source": [
    "def injury_url_2_df(link):\n",
    "    test = urllib2.urlopen(link).read()\n",
    "    final = bs(test, \"lxml\")\n",
    "\n",
    "    holder = list()\n",
    "    for i in final.find_all(\"table\", class_=\"datatable center\"):\n",
    "        holder.append(i.text.split(\"\\n\"))\n",
    "\n",
    "    columns = holder[0][:7]\n",
    "    data = holder[0][9:]\n",
    "\n",
    "    i=0\n",
    "    new_list=[]\n",
    "    while i<len(data):\n",
    "        new_list.append(data[i:i+7])\n",
    "        i+=7\n",
    "\n",
    "    df = pd.DataFrame(new_list)[[0,1,2,3,4]]\n",
    "    df.columns = [\"date\", \"team\", 'acquired', 'relinquished', 'notes']\n",
    "    return df"
   ]
  },
  {
   "cell_type": "code",
   "execution_count": 109,
   "metadata": {},
   "outputs": [
    {
     "data": {
      "text/plain": [
       "12"
      ]
     },
     "execution_count": 109,
     "metadata": {},
     "output_type": "execute_result"
    }
   ],
   "source": [
    "mth = datetime.datetime.today().month\n",
    "mth"
   ]
  },
  {
   "cell_type": "code",
   "execution_count": 112,
   "metadata": {
    "collapsed": true
   },
   "outputs": [],
   "source": [
    "link = \"http://www.prosportstransactions.com/basketball/Search/SearchResults.php?Player=&Team=&BeginDate=2017-{}-01&EndDate=&ILChkBx=yes&InjuriesChkBx=yes&PersonalChkBx=yes&DisciplinaryChkBx=yes&Submit=Search&start=\".format(mth)"
   ]
  },
  {
   "cell_type": "code",
   "execution_count": 122,
   "metadata": {},
   "outputs": [
    {
     "name": "stdout",
     "output_type": "stream",
     "text": [
      "On results 0\n",
      "On results 25\n",
      "On results 50\n",
      "On results 75\n",
      "Hit end of page! We are done!\n"
     ]
    }
   ],
   "source": [
    "# base = pd.DataFrame()\n",
    "# Shifting to have a base, and scraping just that month's data\n",
    "base = pd.read_csv(\"injury_list_2017.csv\")\n",
    "try:\n",
    "    for i in range(0, 1000, 25):\n",
    "        print(\"On results \" + str(i))\n",
    "        base = base.append(injury_url_2_df(link + str(i)))\n",
    "        time.sleep(1)\n",
    "except:\n",
    "    print(\"Hit end of page! We are done!\")"
   ]
  },
  {
   "cell_type": "code",
   "execution_count": 123,
   "metadata": {},
   "outputs": [
    {
     "data": {
      "text/plain": [
       "(1046, 5)"
      ]
     },
     "execution_count": 123,
     "metadata": {},
     "output_type": "execute_result"
    }
   ],
   "source": [
    "base = base.drop_duplicates()\n",
    "base.shape"
   ]
  },
  {
   "cell_type": "code",
   "execution_count": 124,
   "metadata": {
    "collapsed": true
   },
   "outputs": [],
   "source": [
    "base.to_csv(\"injury_list_2017.csv\", index=False, encoding='utf-8')"
   ]
  },
  {
   "cell_type": "markdown",
   "metadata": {},
   "source": [
    "### Start from afresh "
   ]
  },
  {
   "cell_type": "code",
   "execution_count": 125,
   "metadata": {
    "collapsed": true
   },
   "outputs": [],
   "source": [
    "base = pd.read_csv(\"injury_list_2017.csv\")\n",
    "base = base.reset_index(drop=True)\n",
    "base['acquired'] = [i[5:] for i in base['acquired']]\n",
    "base['relinquished'] = [i[5:] for i in base['relinquished']]\n",
    "base['date'] = pd.to_datetime(base['date'], format=\"%Y-%m-%d\")"
   ]
  },
  {
   "cell_type": "markdown",
   "metadata": {},
   "source": [
    "#### Complicated part is linking injury to recover\n",
    "- **Injury & recovery may not be 1-1.**\n",
    "- **Date matching is difficult as they have to be chained together based on recency.**"
   ]
  },
  {
   "cell_type": "code",
   "execution_count": 126,
   "metadata": {
    "collapsed": true
   },
   "outputs": [],
   "source": [
    "injury = base[base['relinquished']!=\"\"][[\"date\", 'team', 'relinquished', \"notes\"]]\n",
    "injury.rename(columns={'relinquished':'player'}, inplace=True)\n",
    "injury['status'] = \"injuried\"\n",
    "\n",
    "recovered = base[base['acquired']!=\"\"][[\"date\", 'team', 'acquired', \"notes\"]]\n",
    "recovered.rename(columns={'acquired':'player'}, inplace=True)\n",
    "recovered['status'] = \"recovered\""
   ]
  },
  {
   "cell_type": "markdown",
   "metadata": {},
   "source": [
    "### Creating operational injury list\n",
    "- **Existing workflow is convolated because I want to create a list that I can do backfilling with.**\n",
    "- **I will sort them by player names & dates. Then, I take the latest status of the player by their order.** \n",
    "- **When I wanna do backfilling, I will chop off the date **"
   ]
  },
  {
   "cell_type": "code",
   "execution_count": 127,
   "metadata": {
    "collapsed": true
   },
   "outputs": [],
   "source": [
    "c_injury_list = injury.append(recovered).sort_values([\"player\", \"date\"])\n",
    "c_injury_list = c_injury_list[~c_injury_list.notes.str.contains(\"fined\")]"
   ]
  },
  {
   "cell_type": "markdown",
   "metadata": {},
   "source": [
    "### Side story 2 --> Jahlil Okafor "
   ]
  },
  {
   "cell_type": "code",
   "execution_count": 128,
   "metadata": {},
   "outputs": [
    {
     "data": {
      "text/html": [
       "<div>\n",
       "<style>\n",
       "    .dataframe thead tr:only-child th {\n",
       "        text-align: right;\n",
       "    }\n",
       "\n",
       "    .dataframe thead th {\n",
       "        text-align: left;\n",
       "    }\n",
       "\n",
       "    .dataframe tbody tr th {\n",
       "        vertical-align: top;\n",
       "    }\n",
       "</style>\n",
       "<table border=\"1\" class=\"dataframe\">\n",
       "  <thead>\n",
       "    <tr style=\"text-align: right;\">\n",
       "      <th></th>\n",
       "      <th>date</th>\n",
       "      <th>team</th>\n",
       "      <th>player</th>\n",
       "      <th>notes</th>\n",
       "      <th>status</th>\n",
       "    </tr>\n",
       "  </thead>\n",
       "  <tbody>\n",
       "    <tr>\n",
       "      <th>61</th>\n",
       "      <td>2017-10-18</td>\n",
       "      <td>76ers</td>\n",
       "      <td>Jahlil Okafor</td>\n",
       "      <td>illness (DTD)</td>\n",
       "      <td>injuried</td>\n",
       "    </tr>\n",
       "    <tr>\n",
       "      <th>189</th>\n",
       "      <td>2017-10-21</td>\n",
       "      <td>76ers</td>\n",
       "      <td>Jahlil Okafor</td>\n",
       "      <td>returned to lineup</td>\n",
       "      <td>recovered</td>\n",
       "    </tr>\n",
       "    <tr>\n",
       "      <th>313</th>\n",
       "      <td>2017-10-28</td>\n",
       "      <td>76ers</td>\n",
       "      <td>Jahlil Okafor</td>\n",
       "      <td>placed on IL with upper respiratory infection</td>\n",
       "      <td>injuried</td>\n",
       "    </tr>\n",
       "    <tr>\n",
       "      <th>368</th>\n",
       "      <td>2017-10-30</td>\n",
       "      <td>76ers</td>\n",
       "      <td>Jahlil Okafor</td>\n",
       "      <td>activated from IL</td>\n",
       "      <td>recovered</td>\n",
       "    </tr>\n",
       "    <tr>\n",
       "      <th>602</th>\n",
       "      <td>2017-11-13</td>\n",
       "      <td>76ers</td>\n",
       "      <td>Jahlil Okafor</td>\n",
       "      <td>placed on IL with upper respiratory infection</td>\n",
       "      <td>injuried</td>\n",
       "    </tr>\n",
       "    <tr>\n",
       "      <th>636</th>\n",
       "      <td>2017-11-15</td>\n",
       "      <td>76ers</td>\n",
       "      <td>Jahlil Okafor</td>\n",
       "      <td>activated from IL</td>\n",
       "      <td>recovered</td>\n",
       "    </tr>\n",
       "    <tr>\n",
       "      <th>705</th>\n",
       "      <td>2017-11-18</td>\n",
       "      <td>76ers</td>\n",
       "      <td>Jahlil Okafor</td>\n",
       "      <td>placed on IL for personal reasons</td>\n",
       "      <td>injuried</td>\n",
       "    </tr>\n",
       "    <tr>\n",
       "      <th>757</th>\n",
       "      <td>2017-11-22</td>\n",
       "      <td>76ers</td>\n",
       "      <td>Jahlil Okafor</td>\n",
       "      <td>activated from IL</td>\n",
       "      <td>recovered</td>\n",
       "    </tr>\n",
       "    <tr>\n",
       "      <th>870</th>\n",
       "      <td>2017-11-29</td>\n",
       "      <td>76ers</td>\n",
       "      <td>Jahlil Okafor</td>\n",
       "      <td>placed on IL</td>\n",
       "      <td>injuried</td>\n",
       "    </tr>\n",
       "  </tbody>\n",
       "</table>\n",
       "</div>"
      ],
      "text/plain": [
       "          date    team         player  \\\n",
       "61  2017-10-18   76ers  Jahlil Okafor   \n",
       "189 2017-10-21   76ers  Jahlil Okafor   \n",
       "313 2017-10-28   76ers  Jahlil Okafor   \n",
       "368 2017-10-30   76ers  Jahlil Okafor   \n",
       "602 2017-11-13   76ers  Jahlil Okafor   \n",
       "636 2017-11-15   76ers  Jahlil Okafor   \n",
       "705 2017-11-18   76ers  Jahlil Okafor   \n",
       "757 2017-11-22   76ers  Jahlil Okafor   \n",
       "870 2017-11-29   76ers  Jahlil Okafor   \n",
       "\n",
       "                                              notes     status  \n",
       "61                                    illness (DTD)   injuried  \n",
       "189                              returned to lineup  recovered  \n",
       "313   placed on IL with upper respiratory infection   injuried  \n",
       "368                               activated from IL  recovered  \n",
       "602   placed on IL with upper respiratory infection   injuried  \n",
       "636                               activated from IL  recovered  \n",
       "705               placed on IL for personal reasons   injuried  \n",
       "757                               activated from IL  recovered  \n",
       "870                                    placed on IL   injuried  "
      ]
     },
     "execution_count": 128,
     "metadata": {},
     "output_type": "execute_result"
    }
   ],
   "source": [
    "c_injury_list[c_injury_list.player==\"Jahlil Okafor\"]"
   ]
  },
  {
   "cell_type": "code",
   "execution_count": 129,
   "metadata": {
    "collapsed": true
   },
   "outputs": [],
   "source": [
    "c_injury_list = c_injury_list[c_injury_list['date'] < \"2017-10-28\"]\n",
    "c_injury_list = c_injury_list.groupby(['player']).last().reset_index()\n",
    "\n",
    "# Only keep those that are still injuried. If their last status is recovered, I can remove them!\n",
    "final = c_injury_list[c_injury_list.status=='injuried']"
   ]
  },
  {
   "cell_type": "markdown",
   "metadata": {},
   "source": [
    "#### Side story --> Test Al Horford --> He was injuried on 11-08-2017, and recovered on 11-12-2017 "
   ]
  },
  {
   "cell_type": "code",
   "execution_count": 130,
   "metadata": {},
   "outputs": [
    {
     "data": {
      "text/html": [
       "<div>\n",
       "<style>\n",
       "    .dataframe thead tr:only-child th {\n",
       "        text-align: right;\n",
       "    }\n",
       "\n",
       "    .dataframe thead th {\n",
       "        text-align: left;\n",
       "    }\n",
       "\n",
       "    .dataframe tbody tr th {\n",
       "        vertical-align: top;\n",
       "    }\n",
       "</style>\n",
       "<table border=\"1\" class=\"dataframe\">\n",
       "  <thead>\n",
       "    <tr style=\"text-align: right;\">\n",
       "      <th></th>\n",
       "      <th>player</th>\n",
       "      <th>date</th>\n",
       "      <th>team</th>\n",
       "      <th>notes</th>\n",
       "      <th>status</th>\n",
       "    </tr>\n",
       "  </thead>\n",
       "  <tbody>\n",
       "  </tbody>\n",
       "</table>\n",
       "</div>"
      ],
      "text/plain": [
       "Empty DataFrame\n",
       "Columns: [player, date, team, notes, status]\n",
       "Index: []"
      ]
     },
     "execution_count": 130,
     "metadata": {},
     "output_type": "execute_result"
    }
   ],
   "source": [
    "c_injury_list[c_injury_list.player==\"Al Horford\"]"
   ]
  },
  {
   "cell_type": "code",
   "execution_count": 131,
   "metadata": {
    "collapsed": true
   },
   "outputs": [],
   "source": [
    "# c_injury_list = c_injury_list[c_injury_list['date'] < \"2017-11-11\"]\n",
    "c_injury_list = c_injury_list.groupby(['player']).last().reset_index()\n",
    "\n",
    "# Only keep those that are still injuried. If their last status is recovered, I can remove them!\n",
    "final = c_injury_list[c_injury_list.status=='injuried']"
   ]
  },
  {
   "cell_type": "code",
   "execution_count": 132,
   "metadata": {},
   "outputs": [
    {
     "data": {
      "text/html": [
       "<div>\n",
       "<style>\n",
       "    .dataframe thead tr:only-child th {\n",
       "        text-align: right;\n",
       "    }\n",
       "\n",
       "    .dataframe thead th {\n",
       "        text-align: left;\n",
       "    }\n",
       "\n",
       "    .dataframe tbody tr th {\n",
       "        vertical-align: top;\n",
       "    }\n",
       "</style>\n",
       "<table border=\"1\" class=\"dataframe\">\n",
       "  <thead>\n",
       "    <tr style=\"text-align: right;\">\n",
       "      <th></th>\n",
       "      <th>player</th>\n",
       "      <th>date</th>\n",
       "      <th>team</th>\n",
       "      <th>notes</th>\n",
       "      <th>status</th>\n",
       "    </tr>\n",
       "  </thead>\n",
       "  <tbody>\n",
       "  </tbody>\n",
       "</table>\n",
       "</div>"
      ],
      "text/plain": [
       "Empty DataFrame\n",
       "Columns: [player, date, team, notes, status]\n",
       "Index: []"
      ]
     },
     "execution_count": 132,
     "metadata": {},
     "output_type": "execute_result"
    }
   ],
   "source": [
    "final[final.player==\"Al Horford\"]"
   ]
  },
  {
   "cell_type": "markdown",
   "metadata": {},
   "source": [
    "### Final operational injury list "
   ]
  },
  {
   "cell_type": "code",
   "execution_count": 133,
   "metadata": {},
   "outputs": [
    {
     "data": {
      "text/plain": [
       "(127, 5)"
      ]
     },
     "execution_count": 133,
     "metadata": {},
     "output_type": "execute_result"
    }
   ],
   "source": [
    "final.shape"
   ]
  },
  {
   "cell_type": "code",
   "execution_count": 134,
   "metadata": {},
   "outputs": [
    {
     "data": {
      "text/html": [
       "<div>\n",
       "<style>\n",
       "    .dataframe thead tr:only-child th {\n",
       "        text-align: right;\n",
       "    }\n",
       "\n",
       "    .dataframe thead th {\n",
       "        text-align: left;\n",
       "    }\n",
       "\n",
       "    .dataframe tbody tr th {\n",
       "        vertical-align: top;\n",
       "    }\n",
       "</style>\n",
       "<table border=\"1\" class=\"dataframe\">\n",
       "  <thead>\n",
       "    <tr style=\"text-align: right;\">\n",
       "      <th></th>\n",
       "      <th>player</th>\n",
       "      <th>date</th>\n",
       "      <th>team</th>\n",
       "      <th>notes</th>\n",
       "      <th>status</th>\n",
       "    </tr>\n",
       "  </thead>\n",
       "  <tbody>\n",
       "    <tr>\n",
       "      <th>0</th>\n",
       "      <td>(William) Tony Parker</td>\n",
       "      <td>2017-10-17</td>\n",
       "      <td>Spurs</td>\n",
       "      <td>placed on IL recovering from surgery to repai...</td>\n",
       "      <td>injuried</td>\n",
       "    </tr>\n",
       "    <tr>\n",
       "      <th>3</th>\n",
       "      <td>Adreian Payne</td>\n",
       "      <td>2017-10-18</td>\n",
       "      <td>Magic</td>\n",
       "      <td>placed on IL with fractured left hand</td>\n",
       "      <td>injuried</td>\n",
       "    </tr>\n",
       "    <tr>\n",
       "      <th>4</th>\n",
       "      <td>Alan Williams</td>\n",
       "      <td>2017-10-18</td>\n",
       "      <td>Suns</td>\n",
       "      <td>placed on IL recovering from surgery on right...</td>\n",
       "      <td>injuried</td>\n",
       "    </tr>\n",
       "    <tr>\n",
       "      <th>5</th>\n",
       "      <td>Alec Peters</td>\n",
       "      <td>2017-10-23</td>\n",
       "      <td>Suns</td>\n",
       "      <td>placed on IL</td>\n",
       "      <td>injuried</td>\n",
       "    </tr>\n",
       "    <tr>\n",
       "      <th>6</th>\n",
       "      <td>Alex Caruso</td>\n",
       "      <td>2017-10-22</td>\n",
       "      <td>Lakers</td>\n",
       "      <td>placed on IL</td>\n",
       "      <td>injuried</td>\n",
       "    </tr>\n",
       "  </tbody>\n",
       "</table>\n",
       "</div>"
      ],
      "text/plain": [
       "                  player       date     team  \\\n",
       "0  (William) Tony Parker 2017-10-17    Spurs   \n",
       "3          Adreian Payne 2017-10-18    Magic   \n",
       "4          Alan Williams 2017-10-18     Suns   \n",
       "5            Alec Peters 2017-10-23     Suns   \n",
       "6            Alex Caruso 2017-10-22   Lakers   \n",
       "\n",
       "                                               notes    status  \n",
       "0   placed on IL recovering from surgery to repai...  injuried  \n",
       "3              placed on IL with fractured left hand  injuried  \n",
       "4   placed on IL recovering from surgery on right...  injuried  \n",
       "5                                       placed on IL  injuried  \n",
       "6                                       placed on IL  injuried  "
      ]
     },
     "execution_count": 134,
     "metadata": {},
     "output_type": "execute_result"
    }
   ],
   "source": [
    "final.head()"
   ]
  },
  {
   "cell_type": "markdown",
   "metadata": {
    "collapsed": true
   },
   "source": [
    "### Part 2 -> Player's team list\n",
    "- I can just take main_player files from the latest game!"
   ]
  },
  {
   "cell_type": "code",
   "execution_count": 135,
   "metadata": {},
   "outputs": [
    {
     "data": {
      "text/plain": [
       "['main_players_2017.csv']"
      ]
     },
     "execution_count": 135,
     "metadata": {},
     "output_type": "execute_result"
    }
   ],
   "source": [
    "import glob\n",
    "glob.glob(\"*main*.csv\")"
   ]
  },
  {
   "cell_type": "code",
   "execution_count": 64,
   "metadata": {
    "collapsed": true
   },
   "outputs": [],
   "source": [
    "test = pd.read_csv('main_players_2017.csv')"
   ]
  },
  {
   "cell_type": "markdown",
   "metadata": {},
   "source": [
    "#### Logic --> Team's latest set of players "
   ]
  },
  {
   "cell_type": "code",
   "execution_count": 30,
   "metadata": {
    "collapsed": true
   },
   "outputs": [],
   "source": [
    "test_team_players = test[(test.GAME_ID == test[test.TEAM_ID == 1610612738].GAME_ID.max()) & \n",
    "                         (test.TEAM_ID == 1610612738)].PLAYER_NAME.unique().tolist()"
   ]
  },
  {
   "cell_type": "code",
   "execution_count": null,
   "metadata": {
    "collapsed": true
   },
   "outputs": [],
   "source": [
    "player_season_stats = pd.read_csv(\"player_season_statistics.csv\")"
   ]
  },
  {
   "cell_type": "code",
   "execution_count": 31,
   "metadata": {},
   "outputs": [
    {
     "data": {
      "text/html": [
       "<div>\n",
       "<style>\n",
       "    .dataframe thead tr:only-child th {\n",
       "        text-align: right;\n",
       "    }\n",
       "\n",
       "    .dataframe thead th {\n",
       "        text-align: left;\n",
       "    }\n",
       "\n",
       "    .dataframe tbody tr th {\n",
       "        vertical-align: top;\n",
       "    }\n",
       "</style>\n",
       "<table border=\"1\" class=\"dataframe\">\n",
       "  <thead>\n",
       "    <tr style=\"text-align: right;\">\n",
       "      <th></th>\n",
       "      <th>season</th>\n",
       "      <th>PLAYER_ID</th>\n",
       "      <th>PLAYER_NAME</th>\n",
       "      <th>PTS</th>\n",
       "      <th>AST</th>\n",
       "      <th>BLK</th>\n",
       "      <th>REB</th>\n",
       "      <th>STL</th>\n",
       "      <th>games_played</th>\n",
       "      <th>pts_l</th>\n",
       "      <th>...</th>\n",
       "      <th>reb_l</th>\n",
       "      <th>stl_l</th>\n",
       "      <th>type</th>\n",
       "      <th>defenders</th>\n",
       "      <th>facilitator</th>\n",
       "      <th>game_winners</th>\n",
       "      <th>inside_gamers</th>\n",
       "      <th>normal</th>\n",
       "      <th>pure_scorers</th>\n",
       "      <th>useless</th>\n",
       "    </tr>\n",
       "  </thead>\n",
       "  <tbody>\n",
       "    <tr>\n",
       "      <th>10408</th>\n",
       "      <td>2016</td>\n",
       "      <td>201143</td>\n",
       "      <td>Al Horford</td>\n",
       "      <td>14.000000</td>\n",
       "      <td>4.955882</td>\n",
       "      <td>1.264706</td>\n",
       "      <td>6.838235</td>\n",
       "      <td>0.764706</td>\n",
       "      <td>68</td>\n",
       "      <td>0</td>\n",
       "      <td>...</td>\n",
       "      <td>0</td>\n",
       "      <td>0</td>\n",
       "      <td>normal</td>\n",
       "      <td>0</td>\n",
       "      <td>0</td>\n",
       "      <td>0</td>\n",
       "      <td>0</td>\n",
       "      <td>1</td>\n",
       "      <td>0</td>\n",
       "      <td>0</td>\n",
       "    </tr>\n",
       "    <tr>\n",
       "      <th>10538</th>\n",
       "      <td>2016</td>\n",
       "      <td>203935</td>\n",
       "      <td>Marcus Smart</td>\n",
       "      <td>10.569620</td>\n",
       "      <td>4.607595</td>\n",
       "      <td>0.430380</td>\n",
       "      <td>3.860759</td>\n",
       "      <td>1.582278</td>\n",
       "      <td>79</td>\n",
       "      <td>0</td>\n",
       "      <td>...</td>\n",
       "      <td>0</td>\n",
       "      <td>1</td>\n",
       "      <td>defenders</td>\n",
       "      <td>1</td>\n",
       "      <td>0</td>\n",
       "      <td>0</td>\n",
       "      <td>0</td>\n",
       "      <td>0</td>\n",
       "      <td>0</td>\n",
       "      <td>0</td>\n",
       "    </tr>\n",
       "    <tr>\n",
       "      <th>10543</th>\n",
       "      <td>2016</td>\n",
       "      <td>1627759</td>\n",
       "      <td>Jaylen Brown</td>\n",
       "      <td>6.602564</td>\n",
       "      <td>0.820513</td>\n",
       "      <td>0.230769</td>\n",
       "      <td>2.820513</td>\n",
       "      <td>0.448718</td>\n",
       "      <td>79</td>\n",
       "      <td>0</td>\n",
       "      <td>...</td>\n",
       "      <td>0</td>\n",
       "      <td>0</td>\n",
       "      <td>useless</td>\n",
       "      <td>0</td>\n",
       "      <td>0</td>\n",
       "      <td>0</td>\n",
       "      <td>0</td>\n",
       "      <td>0</td>\n",
       "      <td>0</td>\n",
       "      <td>1</td>\n",
       "    </tr>\n",
       "    <tr>\n",
       "      <th>10550</th>\n",
       "      <td>2016</td>\n",
       "      <td>202681</td>\n",
       "      <td>Kyrie Irving</td>\n",
       "      <td>25.222222</td>\n",
       "      <td>5.805556</td>\n",
       "      <td>0.333333</td>\n",
       "      <td>3.194444</td>\n",
       "      <td>1.152778</td>\n",
       "      <td>80</td>\n",
       "      <td>1</td>\n",
       "      <td>...</td>\n",
       "      <td>0</td>\n",
       "      <td>0</td>\n",
       "      <td>game_winners</td>\n",
       "      <td>0</td>\n",
       "      <td>0</td>\n",
       "      <td>1</td>\n",
       "      <td>0</td>\n",
       "      <td>0</td>\n",
       "      <td>0</td>\n",
       "      <td>0</td>\n",
       "    </tr>\n",
       "    <tr>\n",
       "      <th>10660</th>\n",
       "      <td>2016</td>\n",
       "      <td>202694</td>\n",
       "      <td>Marcus Morris</td>\n",
       "      <td>13.987342</td>\n",
       "      <td>2.025316</td>\n",
       "      <td>0.316456</td>\n",
       "      <td>4.632911</td>\n",
       "      <td>0.658228</td>\n",
       "      <td>82</td>\n",
       "      <td>0</td>\n",
       "      <td>...</td>\n",
       "      <td>0</td>\n",
       "      <td>0</td>\n",
       "      <td>useless</td>\n",
       "      <td>0</td>\n",
       "      <td>0</td>\n",
       "      <td>0</td>\n",
       "      <td>0</td>\n",
       "      <td>0</td>\n",
       "      <td>0</td>\n",
       "      <td>1</td>\n",
       "    </tr>\n",
       "    <tr>\n",
       "      <th>10672</th>\n",
       "      <td>2016</td>\n",
       "      <td>203382</td>\n",
       "      <td>Aron Baynes</td>\n",
       "      <td>4.866667</td>\n",
       "      <td>0.426667</td>\n",
       "      <td>0.520000</td>\n",
       "      <td>4.440000</td>\n",
       "      <td>0.226667</td>\n",
       "      <td>82</td>\n",
       "      <td>0</td>\n",
       "      <td>...</td>\n",
       "      <td>0</td>\n",
       "      <td>0</td>\n",
       "      <td>useless</td>\n",
       "      <td>0</td>\n",
       "      <td>0</td>\n",
       "      <td>0</td>\n",
       "      <td>0</td>\n",
       "      <td>0</td>\n",
       "      <td>0</td>\n",
       "      <td>1</td>\n",
       "    </tr>\n",
       "    <tr>\n",
       "      <th>10708</th>\n",
       "      <td>2016</td>\n",
       "      <td>1626179</td>\n",
       "      <td>Terry Rozier</td>\n",
       "      <td>5.540541</td>\n",
       "      <td>1.770270</td>\n",
       "      <td>0.148649</td>\n",
       "      <td>3.067568</td>\n",
       "      <td>0.621622</td>\n",
       "      <td>82</td>\n",
       "      <td>0</td>\n",
       "      <td>...</td>\n",
       "      <td>0</td>\n",
       "      <td>0</td>\n",
       "      <td>useless</td>\n",
       "      <td>0</td>\n",
       "      <td>0</td>\n",
       "      <td>0</td>\n",
       "      <td>0</td>\n",
       "      <td>0</td>\n",
       "      <td>0</td>\n",
       "      <td>1</td>\n",
       "    </tr>\n",
       "  </tbody>\n",
       "</table>\n",
       "<p>7 rows × 22 columns</p>\n",
       "</div>"
      ],
      "text/plain": [
       "       season  PLAYER_ID    PLAYER_NAME        PTS       AST       BLK  \\\n",
       "10408    2016     201143     Al Horford  14.000000  4.955882  1.264706   \n",
       "10538    2016     203935   Marcus Smart  10.569620  4.607595  0.430380   \n",
       "10543    2016    1627759   Jaylen Brown   6.602564  0.820513  0.230769   \n",
       "10550    2016     202681   Kyrie Irving  25.222222  5.805556  0.333333   \n",
       "10660    2016     202694  Marcus Morris  13.987342  2.025316  0.316456   \n",
       "10672    2016     203382    Aron Baynes   4.866667  0.426667  0.520000   \n",
       "10708    2016    1626179   Terry Rozier   5.540541  1.770270  0.148649   \n",
       "\n",
       "            REB       STL  games_played  pts_l   ...     reb_l  stl_l  \\\n",
       "10408  6.838235  0.764706            68      0   ...         0      0   \n",
       "10538  3.860759  1.582278            79      0   ...         0      1   \n",
       "10543  2.820513  0.448718            79      0   ...         0      0   \n",
       "10550  3.194444  1.152778            80      1   ...         0      0   \n",
       "10660  4.632911  0.658228            82      0   ...         0      0   \n",
       "10672  4.440000  0.226667            82      0   ...         0      0   \n",
       "10708  3.067568  0.621622            82      0   ...         0      0   \n",
       "\n",
       "               type  defenders facilitator  game_winners  inside_gamers  \\\n",
       "10408        normal          0           0             0              0   \n",
       "10538     defenders          1           0             0              0   \n",
       "10543       useless          0           0             0              0   \n",
       "10550  game_winners          0           0             1              0   \n",
       "10660       useless          0           0             0              0   \n",
       "10672       useless          0           0             0              0   \n",
       "10708       useless          0           0             0              0   \n",
       "\n",
       "       normal  pure_scorers  useless  \n",
       "10408       1             0        0  \n",
       "10538       0             0        0  \n",
       "10543       0             0        1  \n",
       "10550       0             0        0  \n",
       "10660       0             0        1  \n",
       "10672       0             0        1  \n",
       "10708       0             0        1  \n",
       "\n",
       "[7 rows x 22 columns]"
      ]
     },
     "execution_count": 31,
     "metadata": {},
     "output_type": "execute_result"
    }
   ],
   "source": [
    "player_2016 = player_season_stats[player_season_stats.season==2016]\n",
    "player_2016[player_2016.PLAYER_NAME.isin(test_team_players)]"
   ]
  },
  {
   "cell_type": "markdown",
   "metadata": {},
   "source": [
    "## Checkpoint on current workflow\n",
    "1. **Have a daily script to update injuries** -- Current workflow does entire list, but an incremental one would be better tbh...\n",
    "2. **Have a list to extract players from previous game, based on existing (pre-defined) date**\n",
    "3. **Match names with **\n",
    "4. Potential improvement: **This workflow doesn't include rookies. Might want to have a system that includes crazy rookies, but has to be done on hindsight and requires more hardcore hardcoding**"
   ]
  },
  {
   "cell_type": "code",
   "execution_count": null,
   "metadata": {
    "collapsed": true
   },
   "outputs": [],
   "source": []
  }
 ],
 "metadata": {
  "kernelspec": {
   "display_name": "Python 2",
   "language": "python",
   "name": "python2"
  },
  "language_info": {
   "codemirror_mode": {
    "name": "ipython",
    "version": 2
   },
   "file_extension": ".py",
   "mimetype": "text/x-python",
   "name": "python",
   "nbconvert_exporter": "python",
   "pygments_lexer": "ipython2",
   "version": "2.7.13"
  }
 },
 "nbformat": 4,
 "nbformat_minor": 2
}
