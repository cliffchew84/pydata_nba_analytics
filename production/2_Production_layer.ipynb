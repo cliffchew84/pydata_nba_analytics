{
 "cells": [
  {
   "cell_type": "markdown",
   "metadata": {},
   "source": [
    "### 2. Production code\n",
    "- **This is the workflow that I have to push the new scraped data into my prediction model, and from there, output my predictions. **\n",
    "- I must have at least updated for the latest games played. "
   ]
  },
  {
   "cell_type": "code",
   "execution_count": 32,
   "metadata": {
    "collapsed": true
   },
   "outputs": [],
   "source": [
    "import os\n",
    "import glob\n",
    "import gspread\n",
    "import warnings\n",
    "import datetime\n",
    "import numpy as np\n",
    "import pandas as pd\n",
    "from patsy import dmatrices\n",
    "from sklearn.externals import joblib\n",
    "\n",
    "from sklearn.linear_model import LogisticRegression\n",
    "pd.options.display.float_format = '{:,.2f}'.format\n",
    "from sklearn import metrics\n",
    "from prod_funs import *\n",
    "\n",
    "warnings.filterwarnings('ignore')\n",
    "pd.set_option('display.max_rows', 500)\n",
    "pd.set_option('display.max_columns', 500)"
   ]
  },
  {
   "cell_type": "markdown",
   "metadata": {},
   "source": [
    "### Load Prediction Model"
   ]
  },
  {
   "cell_type": "code",
   "execution_count": 33,
   "metadata": {
    "collapsed": true
   },
   "outputs": [],
   "source": [
    "base_folder = os.path.abspath(os.getcwd())\n",
    "filename = 'First_production_model.sav'\n",
    "loaded_model = joblib.load(filename)"
   ]
  },
  {
   "cell_type": "markdown",
   "metadata": {},
   "source": [
    "### Dropbox Stuff \n",
    "- Some Dropbox functions upload and download my files into Dropbox"
   ]
  },
  {
   "cell_type": "code",
   "execution_count": 34,
   "metadata": {
    "collapsed": true
   },
   "outputs": [],
   "source": [
    "from dropbox_functions import authenticate_into_dropbox\n",
    "from dropbox_functions import load_file_into_my_dropbox, download_file_from_dropbox\n",
    "account = authenticate_into_dropbox()\n",
    "files_to_shift = ['game_date_2017.csv', 'main_players_2017.csv', 'more_home_away_2017.csv', 'more_team_stats_2017.csv',\n",
    "                  'more_wins_losses_2017.csv', 'referees_2017.csv', 'start_bench_2017.csv', 'team_2017.csv']"
   ]
  },
  {
   "cell_type": "markdown",
   "metadata": {},
   "source": [
    "** Some minor workflow to remind myself to scrape my data first before running this portion of the code **"
   ]
  },
  {
   "cell_type": "code",
   "execution_count": 35,
   "metadata": {},
   "outputs": [
    {
     "data": {
      "text/plain": [
       "14"
      ]
     },
     "execution_count": 35,
     "metadata": {},
     "output_type": "execute_result"
    }
   ],
   "source": [
    "file_time_modified = os.path.getmtime(\"game_date_2017.csv\")\n",
    "time_now = int(datetime.datetime.now().strftime('%H'))\n",
    "time_now"
   ]
  },
  {
   "cell_type": "markdown",
   "metadata": {},
   "source": [
    "### Functions for data interactions with Dropbox "
   ]
  },
  {
   "cell_type": "code",
   "execution_count": 36,
   "metadata": {
    "collapsed": true
   },
   "outputs": [],
   "source": [
    "def delete_dropbox_data(account, files_to_shift):\n",
    "    for i in files_to_shift:\n",
    "        try:\n",
    "            account.files_delete(\"/nba games/{}\".format(i))\n",
    "            print(\"Delete {} from dropbox\".format(i))\n",
    "        except:\n",
    "            print(\"No {}\".format(i))\n",
    "\n",
    "def upload_dropbx_data(account, files_to_shift):\n",
    "    for i in files_to_shift:\n",
    "        load_file_into_my_dropbox(account, i)\n",
    "    print(\"Upload {}\".format(i))"
   ]
  },
  {
   "cell_type": "markdown",
   "metadata": {},
   "source": [
    "### Scenarios - Just some if-else code to make sure I did some stuff first\n",
    "1. If files are not updated today and time is after 5am, update!\n",
    "1. If files is not updated today but time is before 5am, don't update\n",
    "1. If file is updated today already, don't update"
   ]
  },
  {
   "cell_type": "code",
   "execution_count": 37,
   "metadata": {},
   "outputs": [
    {
     "name": "stdout",
     "output_type": "stream",
     "text": [
      "You are early! The data is updated today! Woho!\n",
      " \n",
      "2018-02-12\n"
     ]
    }
   ],
   "source": [
    "if (datetime.datetime.fromtimestamp(file_time_modified).strftime('%Y-%m-%d') != datetime.datetime.today().strftime('%Y-%m-%d')):\n",
    "    if time_now > 5:\n",
    "        print(\"Update the data!\")\n",
    "    else:\n",
    "        print(\"You are working hard! The data was updated yesterday, but you are still working hard in the wee hours!\")\n",
    "        date_to_remove = (datetime.datetime.today() - datetime.timedelta(days=2)).date()\n",
    "else:\n",
    "    print(\"You are early! The data is updated today! Woho!\")\n",
    "    date_to_remove = (datetime.datetime.today() - datetime.timedelta(days=1)).date()\n",
    "\n",
    "print(\" \")\n",
    "print(date_to_remove)"
   ]
  },
  {
   "cell_type": "code",
   "execution_count": 38,
   "metadata": {},
   "outputs": [
    {
     "data": {
      "text/plain": [
       "datetime.date(2018, 2, 12)"
      ]
     },
     "execution_count": 38,
     "metadata": {},
     "output_type": "execute_result"
    }
   ],
   "source": [
    "date_to_remove"
   ]
  },
  {
   "cell_type": "markdown",
   "metadata": {},
   "source": [
    "### Delete data from Dropbox "
   ]
  },
  {
   "cell_type": "code",
   "execution_count": 39,
   "metadata": {},
   "outputs": [
    {
     "name": "stdout",
     "output_type": "stream",
     "text": [
      "Delete game_date_2017.csv from dropbox\n",
      "Delete main_players_2017.csv from dropbox\n",
      "Delete more_home_away_2017.csv from dropbox\n",
      "Delete more_team_stats_2017.csv from dropbox\n",
      "Delete more_wins_losses_2017.csv from dropbox\n",
      "Delete referees_2017.csv from dropbox\n",
      "Delete start_bench_2017.csv from dropbox\n",
      "Delete team_2017.csv from dropbox\n"
     ]
    }
   ],
   "source": [
    "for i in files_to_shift:\n",
    "    try:\n",
    "        account.files_delete(\"/nba games/{}\".format(i))\n",
    "        print(\"Delete {} from dropbox\".format(i))\n",
    "    except:\n",
    "        print(\"No {}\".format(i))"
   ]
  },
  {
   "cell_type": "markdown",
   "metadata": {},
   "source": [
    "### Upload updated new data "
   ]
  },
  {
   "cell_type": "code",
   "execution_count": 40,
   "metadata": {},
   "outputs": [
    {
     "name": "stdout",
     "output_type": "stream",
     "text": [
      "Upload game_date_2017.csv\n",
      "Upload main_players_2017.csv\n",
      "Upload more_home_away_2017.csv\n",
      "Upload more_team_stats_2017.csv\n",
      "Upload more_wins_losses_2017.csv\n",
      "Upload referees_2017.csv\n",
      "Upload start_bench_2017.csv\n",
      "Upload team_2017.csv\n"
     ]
    }
   ],
   "source": [
    "for i in files_to_shift:\n",
    "    load_file_into_my_dropbox(account, i)\n",
    "    print(\"Upload {}\".format(i))"
   ]
  },
  {
   "cell_type": "markdown",
   "metadata": {},
   "source": [
    "### Load data from existing season"
   ]
  },
  {
   "cell_type": "code",
   "execution_count": 41,
   "metadata": {
    "collapsed": true
   },
   "outputs": [],
   "source": [
    "for i in glob.glob(\"*2017.csv\"):\n",
    "    tmp = pd.read_csv(i)\n",
    "    tmp.drop_duplicates().to_csv(i, index=False)"
   ]
  },
  {
   "cell_type": "code",
   "execution_count": 42,
   "metadata": {
    "collapsed": true
   },
   "outputs": [],
   "source": [
    "final_table = pd.DataFrame()\n",
    "home_csv, teams_csv, more_stats_csv, game_date_csv, win_loss_csv = load_all_files(\"2017\")"
   ]
  },
  {
   "cell_type": "markdown",
   "metadata": {},
   "source": [
    "# Processing this season's games for prediction!"
   ]
  },
  {
   "cell_type": "code",
   "execution_count": 43,
   "metadata": {
    "collapsed": true
   },
   "outputs": [],
   "source": [
    "merge_home_away = create_home_away_var(home_csv).drop_duplicates()\n",
    "merge_date = pd.merge(merge_home_away, create_date_variable(game_date_csv))\n",
    "merge_team_stats = add_game_stats(teams_csv.drop_duplicates(), merge_date)\n",
    "\n",
    "merge_game_count = create_game_count_var(merge_team_stats)\n",
    "merge_previous_date = create_days_from_previous_games_var(merge_game_count)\n",
    "merge_opp = create_opp_stats(merge_previous_date)\n",
    "merge_opp = create_win_loss_vars(merge_opp)\n",
    "\"\"\" I need to cumulate all numeric stats \"\"\"\n",
    "var_to_accum = merge_opp.drop([\"GAME_ID\", \"TEAM_ID_x\", \"TEAM_ID_y\", \"TEAM_NAME_x\", \"TEAM_NAME_y\", \"G_x\", \"G_y\", \n",
    "                               \"Home\", \"GAME_DATE\", \"WL_x\", 'p_games_x', 'p_games_y', \"SEASON\", \"LIVE_PERIOD\"], axis=1).columns\n",
    "    \n",
    "\"\"\" Potential for change: Right now, I am using the entire season for the stats calculations. \n",
    "    However, it might be more accurate to use rolling window calculations instead.\"\"\"\n",
    "# Create accumulative variables\n",
    "merge_total = merge_opp.sort_values([\"TEAM_NAME_x\", \"GAME_DATE\"])\n",
    "merge_total[var_to_accum] = merge_total.groupby('TEAM_ID_x')[var_to_accum].transform(pd.Series.cumsum)\n",
    "\n",
    "# Create NBA domain-knowledge variables\n",
    "merge_total = create_rebs_efficiency_vars(create_fta_to_fga_ratio(create_efg_var(merge_total)))\n",
    "\n",
    "# Create percentage variables \n",
    "\"\"\"Dividing the cumulative stats of these variables by the games_played thus far to get their averages.\"\"\"\n",
    "vars_to_average = [\"OREB\", \"DREB\", \"REB\", \"AST\", \"STL\", \"BLK\", \"TO\", \"PF\", \"PTS\", \"W\", \"L\"]\n",
    "merge_total_ave = create_shooting_percentage_vars(create_averages(merge_total, vars_to_average))\n",
    "# merge_games_shifted = shift_game_stats_down_by_one(merge_total_ave)\n",
    "final_t_ab_opp = create_team_ab_and_opp_table(merge_total_ave)\n",
    "finals_home = filter_home_teams(final_t_ab_opp)\n",
    "final_table = final_table.append(finals_home)"
   ]
  },
  {
   "cell_type": "markdown",
   "metadata": {},
   "source": [
    "### Note on which day to predict!\n",
    "- I have predictions on today + tomorrow's games. "
   ]
  },
  {
   "cell_type": "code",
   "execution_count": 188,
   "metadata": {
    "collapsed": true
   },
   "outputs": [],
   "source": [
    "date_to_remove = datetime.datetime(2018, 2, 12).date()"
   ]
  },
  {
   "cell_type": "code",
   "execution_count": 189,
   "metadata": {},
   "outputs": [
    {
     "data": {
      "text/plain": [
       "'2018-02-12'"
      ]
     },
     "execution_count": 189,
     "metadata": {},
     "output_type": "execute_result"
    }
   ],
   "source": [
    "date_to_remove.strftime('%Y-%m-%d')"
   ]
  },
  {
   "cell_type": "markdown",
   "metadata": {},
   "source": [
    "### Functions for predictions! "
   ]
  },
  {
   "cell_type": "code",
   "execution_count": 190,
   "metadata": {
    "collapsed": true
   },
   "outputs": [],
   "source": [
    "ta_table = final_table.copy()\n",
    "ta_table = ta_table[['game_id', ] + [i for i in final_table.columns if '_ta' in i]]\n",
    "\n",
    "tb_table = final_table.copy()\n",
    "tb_table = tb_table[['game_id', ] + [i for i in final_table.columns if '_ta' in i]]\n",
    "tb_table.columns = [i.replace(\"_ta_opp\", \"_tb_opp\").replace(\"_ta\", \"_tb\") for i in tb_table.columns]"
   ]
  },
  {
   "cell_type": "code",
   "execution_count": 191,
   "metadata": {
    "collapsed": true
   },
   "outputs": [],
   "source": [
    "def making_predict_table(predict_table, table, ta_table, tb_table):\n",
    "    # Create team_names for merging\n",
    "    predict_table[\"team_name_ta\"] = [i.split(\" \")[-1] for i in predict_table['home']]\n",
    "    predict_table['team_name_ta'].replace(\"Blazers\", \"Trail Blazers\", inplace=True)\n",
    "    predict_table[\"team_name_tb\"] = [i.split(\" \")[-1] for i in predict_table['away']]\n",
    "    predict_table['team_name_tb'].replace(\"Blazers\", \"Trail Blazers\", inplace=True)\n",
    "\n",
    "    \n",
    "    team_a_latest_stats = ta_table[ta_table[\"team_name_ta\"].isin(predict_table['team_name_ta'].unique().tolist())].sort_values(\n",
    "        [\"game_id\", 'team_name_ta'], ascending=[False, False]).drop_duplicates(['team_name_ta'])\n",
    "    team_b_latest_stats = tb_table[tb_table[\"team_name_tb\"].isin(predict_table['team_name_tb'].unique().tolist())].sort_values(\n",
    "        [\"game_id\", 'team_name_tb'], ascending=[False, False]).drop_duplicates(['team_name_tb'])\n",
    "\n",
    "    predict_table = pd.merge(\n",
    "        predict_table, \n",
    "        team_a_latest_stats[[i for i in final_table.columns if \"_ta\" in i] + [i for i in final_table.columns if \"_la\" in i]], \n",
    "        on='team_name_ta', how='left')\n",
    "\n",
    "    predict_table = pd.merge(\n",
    "        predict_table, \n",
    "        team_b_latest_stats[[i for i in final_table.columns if \"_tb\" in i] + [i for i in final_table.columns if \"_lb\" in i]], \n",
    "        on='team_name_tb', how='left')\n",
    "\n",
    "    predict_table[\"pts_ast_ta\"] = predict_table['pts_ta'] / predict_table['ast_ta']\n",
    "    predict_table[\"pts_ast_tb\"] = predict_table['pts_tb'] / predict_table['ast_tb']\n",
    "\n",
    "    predict_table[\"pts_ast_ta_opp\"] = predict_table['pts_ta'] / predict_table['ast_ta']\n",
    "    predict_table[\"pts_ast_tb_opp\"] = predict_table['pts_tb'] / predict_table['ast_tb']\n",
    "\n",
    "    predict_table['game_win_rates_ta'] = predict_table[\"w_rate_ta\"] * predict_table['g_ta'] \n",
    "    predict_table['game_win_rates_tb'] = predict_table[\"w_rate_tb\"] * predict_table['g_tb']\n",
    "    return predict_table"
   ]
  },
  {
   "cell_type": "code",
   "execution_count": 192,
   "metadata": {
    "collapsed": true
   },
   "outputs": [],
   "source": [
    "def making_predictions(predictions, model):\n",
    "    final_predict = for_prediction(predictions, model)\n",
    "\n",
    "    proba = pd.DataFrame(loaded_model.predict_proba(final_predict))\n",
    "    proba.columns = ['home_w', \"phome_w\"]\n",
    "    proba.loc[proba[\"phome_w\"] > .5, \"home_w\"] = 1\n",
    "    proba.loc[proba[\"phome_w\"] <= .5, \"home_w\"] = 0\n",
    "\n",
    "    results = pd.concat([predictions[[\"away\", \"home\", \"arena\", \"location\", \"time\", \"d_filter\"]], proba], axis=1)\n",
    "    results['home_w'] = results['home_w'].astype(int)\n",
    "    return results"
   ]
  },
  {
   "cell_type": "code",
   "execution_count": 193,
   "metadata": {
    "collapsed": true
   },
   "outputs": [],
   "source": [
    "def today_games_results(table, game_date_result):\n",
    "    win_loss = table.copy()\n",
    "    win_loss['game_date'] = pd.to_datetime(win_loss['GAME_DATE_EST'])\n",
    "    win_loss = win_loss[win_loss.game_date == game_date_result][[\"GAME_ID\", \"TEAM_NICKNAME\", \"PTS\", \"game_date\"]]\n",
    "    win_loss = pd.merge(win_loss.groupby(['GAME_ID']).first().reset_index(), win_loss.groupby(['GAME_ID']).last().reset_index(), \n",
    "             on=[\"GAME_ID\", \"game_date\"])\n",
    "    win_loss.columns = ['game_id', 'team_name_ta', 'pts_ta', 'game_date', 'team_name_tb', 'pts_tb']\n",
    "    win_loss = win_loss[['game_id', 'game_date', 'team_name_ta', 'team_name_tb', 'pts_ta', 'pts_tb']]\n",
    "    win_loss[\"predictions\"] = 0\n",
    "    win_loss.loc[(win_loss['pts_ta'] > win_loss['pts_tb']), \"predictions\"] = 1\n",
    "    return win_loss"
   ]
  },
  {
   "cell_type": "markdown",
   "metadata": {},
   "source": [
    "### Execute predictions "
   ]
  },
  {
   "cell_type": "code",
   "execution_count": 194,
   "metadata": {
    "collapsed": true
   },
   "outputs": [],
   "source": [
    "def for_prediction(dataframe, var):\n",
    "    \"\"\"This functions selects the variables required and make them into sklearn-ready formats! \"\"\"\n",
    "    # hackish way to create up the dataframe, haha... \n",
    "    dataframe['wl_ta'] = 1\n",
    "    y, x = dmatrices('wl_ta ~ ' + var, dataframe, return_type=\"dataframe\")\n",
    "    return x"
   ]
  },
  {
   "cell_type": "markdown",
   "metadata": {},
   "source": [
    "### The parameters of the best model! "
   ]
  },
  {
   "cell_type": "code",
   "execution_count": 195,
   "metadata": {
    "collapsed": true
   },
   "outputs": [],
   "source": [
    "model_9_ratio_vars = '''\n",
    "game_win_rates_ta + game_win_rates_tb + g_ta + g_tb + p_games_ta + p_games_tb + \n",
    "pts_ast_ta + pts_ast_tb + pts_ast_ta_opp + pts_ast_tb_opp + \n",
    "\n",
    "pts_ta + oreb_ta + dreb_ta + ast_ta + stl_ta + blk_ta + to_ta +\n",
    "pts_tb + oreb_tb + dreb_tb + ast_tb + stl_tb + blk_tb + to_tb + \n",
    "pts_ta_opp + oreb_ta_opp + dreb_ta_opp + ast_ta_opp + stl_ta_opp + blk_ta_opp + to_ta_opp +\n",
    "pts_tb_opp + oreb_tb_opp + dreb_tb_opp + ast_tb_opp + stl_tb_opp + blk_tb_opp + to_tb_opp +\n",
    "\n",
    "efg_ta + fgp_ta + efg_ta_opp + fgp_ta_opp + fta_fga_ta + fta_fga_ta_opp + fg3p_ta + ftp_ta + \n",
    "efg_tb + fgp_tb + efg_tb_opp + fgp_tb_opp + fta_fga_tb + fta_fga_tb_opp + fg3p_tb + ftp_tb\n",
    "'''"
   ]
  },
  {
   "cell_type": "markdown",
   "metadata": {},
   "source": [
    "### Predictions for today's games!"
   ]
  },
  {
   "cell_type": "code",
   "execution_count": 196,
   "metadata": {
    "collapsed": true
   },
   "outputs": [],
   "source": [
    "final_table['game_id'] = final_table['game_id'].astype(int)"
   ]
  },
  {
   "cell_type": "code",
   "execution_count": 197,
   "metadata": {},
   "outputs": [],
   "source": [
    "# Drop out today's games for today's predictions\n",
    "today = final_table[final_table.game_date<=date_to_remove]"
   ]
  },
  {
   "cell_type": "markdown",
   "metadata": {},
   "source": [
    "### Load new day games for today's predictions"
   ]
  },
  {
   "cell_type": "code",
   "execution_count": 198,
   "metadata": {},
   "outputs": [
    {
     "data": {
      "text/html": [
       "<div>\n",
       "<style>\n",
       "    .dataframe thead tr:only-child th {\n",
       "        text-align: right;\n",
       "    }\n",
       "\n",
       "    .dataframe thead th {\n",
       "        text-align: left;\n",
       "    }\n",
       "\n",
       "    .dataframe tbody tr th {\n",
       "        vertical-align: top;\n",
       "    }\n",
       "</style>\n",
       "<table border=\"1\" class=\"dataframe\">\n",
       "  <thead>\n",
       "    <tr style=\"text-align: right;\">\n",
       "      <th></th>\n",
       "      <th>away</th>\n",
       "      <th>home</th>\n",
       "      <th>arena</th>\n",
       "      <th>location</th>\n",
       "      <th>time</th>\n",
       "      <th>date</th>\n",
       "      <th>d_filter</th>\n",
       "    </tr>\n",
       "  </thead>\n",
       "  <tbody>\n",
       "    <tr>\n",
       "      <th>840</th>\n",
       "      <td>New Orleans Pelicans</td>\n",
       "      <td>Detroit Pistons</td>\n",
       "      <td>Little Caesars Arena</td>\n",
       "      <td>Detroit, MI</td>\n",
       "      <td>7:00 PM ET</td>\n",
       "      <td>Monday, February 12</td>\n",
       "      <td>12-02</td>\n",
       "    </tr>\n",
       "    <tr>\n",
       "      <th>841</th>\n",
       "      <td>New York Knicks</td>\n",
       "      <td>Philadelphia 76ers</td>\n",
       "      <td>Wells Fargo Center</td>\n",
       "      <td>Philadelphia, PA</td>\n",
       "      <td>7:00 PM ET</td>\n",
       "      <td>Monday, February 12</td>\n",
       "      <td>12-02</td>\n",
       "    </tr>\n",
       "    <tr>\n",
       "      <th>842</th>\n",
       "      <td>LA Clippers</td>\n",
       "      <td>Brooklyn Nets</td>\n",
       "      <td>Barclays Center</td>\n",
       "      <td>Brooklyn, NY</td>\n",
       "      <td>7:30 PM ET</td>\n",
       "      <td>Monday, February 12</td>\n",
       "      <td>12-02</td>\n",
       "    </tr>\n",
       "    <tr>\n",
       "      <th>843</th>\n",
       "      <td>Orlando Magic</td>\n",
       "      <td>Chicago Bulls</td>\n",
       "      <td>United Center</td>\n",
       "      <td>Chicago, IL</td>\n",
       "      <td>8:00 PM ET</td>\n",
       "      <td>Monday, February 12</td>\n",
       "      <td>12-02</td>\n",
       "    </tr>\n",
       "    <tr>\n",
       "      <th>844</th>\n",
       "      <td>San Antonio Spurs</td>\n",
       "      <td>Utah Jazz</td>\n",
       "      <td>Vivint Smart Home Arena</td>\n",
       "      <td>Salt Lake City, UT</td>\n",
       "      <td>9:00 PM ET</td>\n",
       "      <td>Monday, February 12</td>\n",
       "      <td>12-02</td>\n",
       "    </tr>\n",
       "    <tr>\n",
       "      <th>845</th>\n",
       "      <td>Phoenix Suns</td>\n",
       "      <td>Golden State Warriors</td>\n",
       "      <td>ORACLE Arena</td>\n",
       "      <td>Oakland, CA</td>\n",
       "      <td>10:30 PM ET</td>\n",
       "      <td>Monday, February 12</td>\n",
       "      <td>12-02</td>\n",
       "    </tr>\n",
       "  </tbody>\n",
       "</table>\n",
       "</div>"
      ],
      "text/plain": [
       "                     away                   home                    arena  \\\n",
       "840  New Orleans Pelicans        Detroit Pistons     Little Caesars Arena   \n",
       "841       New York Knicks     Philadelphia 76ers       Wells Fargo Center   \n",
       "842           LA Clippers          Brooklyn Nets          Barclays Center   \n",
       "843         Orlando Magic          Chicago Bulls            United Center   \n",
       "844     San Antonio Spurs              Utah Jazz  Vivint Smart Home Arena   \n",
       "845          Phoenix Suns  Golden State Warriors             ORACLE Arena   \n",
       "\n",
       "               location         time                 date d_filter  \n",
       "840         Detroit, MI   7:00 PM ET  Monday, February 12    12-02  \n",
       "841    Philadelphia, PA   7:00 PM ET  Monday, February 12    12-02  \n",
       "842        Brooklyn, NY   7:30 PM ET  Monday, February 12    12-02  \n",
       "843         Chicago, IL   8:00 PM ET  Monday, February 12    12-02  \n",
       "844  Salt Lake City, UT   9:00 PM ET  Monday, February 12    12-02  \n",
       "845         Oakland, CA  10:30 PM ET  Monday, February 12    12-02  "
      ]
     },
     "execution_count": 198,
     "metadata": {},
     "output_type": "execute_result"
    }
   ],
   "source": [
    "schedule = pd.read_csv(\"2017_2018_nba_schedule.csv\")\n",
    "schedule['d_filter'] = [datetime.datetime.strptime(i, \"%A, %B %d\").strftime(\"%d-%m\") for i in schedule['date']]\n",
    "d_filter = date_to_remove.strftime(\"%d-%m\")\n",
    "predictions = schedule[schedule['d_filter'] == d_filter]\n",
    "predictions"
   ]
  },
  {
   "cell_type": "code",
   "execution_count": 199,
   "metadata": {},
   "outputs": [
    {
     "data": {
      "text/html": [
       "<div>\n",
       "<style>\n",
       "    .dataframe thead tr:only-child th {\n",
       "        text-align: right;\n",
       "    }\n",
       "\n",
       "    .dataframe thead th {\n",
       "        text-align: left;\n",
       "    }\n",
       "\n",
       "    .dataframe tbody tr th {\n",
       "        vertical-align: top;\n",
       "    }\n",
       "</style>\n",
       "<table border=\"1\" class=\"dataframe\">\n",
       "  <thead>\n",
       "    <tr style=\"text-align: right;\">\n",
       "      <th></th>\n",
       "      <th>away</th>\n",
       "      <th>home</th>\n",
       "      <th>arena</th>\n",
       "      <th>location</th>\n",
       "      <th>time</th>\n",
       "      <th>date</th>\n",
       "      <th>d_filter</th>\n",
       "      <th>team_name_ta</th>\n",
       "      <th>team_name_tb</th>\n",
       "      <th>ast_ta</th>\n",
       "      <th>blk_ta</th>\n",
       "      <th>dreb_ta</th>\n",
       "      <th>fg3a_ta</th>\n",
       "      <th>fg3m_ta</th>\n",
       "      <th>fga_ta</th>\n",
       "      <th>fgm_ta</th>\n",
       "      <th>fta_ta</th>\n",
       "      <th>ftm_ta</th>\n",
       "      <th>oreb_ta</th>\n",
       "      <th>pf_ta</th>\n",
       "      <th>pts_ta</th>\n",
       "      <th>reb_ta</th>\n",
       "      <th>stl_ta</th>\n",
       "      <th>team_id_ta</th>\n",
       "      <th>to_ta</th>\n",
       "      <th>g_ta</th>\n",
       "      <th>p_games_ta</th>\n",
       "      <th>ast_ta_opp</th>\n",
       "      <th>blk_ta_opp</th>\n",
       "      <th>dreb_ta_opp</th>\n",
       "      <th>fg3a_ta_opp</th>\n",
       "      <th>fg3m_ta_opp</th>\n",
       "      <th>fga_ta_opp</th>\n",
       "      <th>fgm_ta_opp</th>\n",
       "      <th>fta_ta_opp</th>\n",
       "      <th>ftm_ta_opp</th>\n",
       "      <th>oreb_ta_opp</th>\n",
       "      <th>pf_ta_opp</th>\n",
       "      <th>pts_ta_opp</th>\n",
       "      <th>reb_ta_opp</th>\n",
       "      <th>stl_ta_opp</th>\n",
       "      <th>to_ta_opp</th>\n",
       "      <th>g_ta_opp</th>\n",
       "      <th>p_games_ta_opp</th>\n",
       "      <th>wl_ta</th>\n",
       "      <th>w_rate_ta</th>\n",
       "      <th>l_ta</th>\n",
       "      <th>w_ta_opp</th>\n",
       "      <th>l_ta_opp</th>\n",
       "      <th>efg_ta</th>\n",
       "      <th>fgp_ta</th>\n",
       "      <th>efg_ta_opp</th>\n",
       "      <th>fgp_ta_opp</th>\n",
       "      <th>fta_fga_ta</th>\n",
       "      <th>fta_fga_ta_opp</th>\n",
       "      <th>oreb_p_ta</th>\n",
       "      <th>dreb_p_ta</th>\n",
       "      <th>oreb_p_ta_opp</th>\n",
       "      <th>dreb_p_ta_opp</th>\n",
       "      <th>fg3p_ta_opp</th>\n",
       "      <th>ftp_ta_opp</th>\n",
       "      <th>fg3p_ta</th>\n",
       "      <th>ftp_ta</th>\n",
       "      <th>ast_tb</th>\n",
       "      <th>blk_tb</th>\n",
       "      <th>dreb_tb</th>\n",
       "      <th>fg3a_tb</th>\n",
       "      <th>fg3m_tb</th>\n",
       "      <th>fga_tb</th>\n",
       "      <th>fgm_tb</th>\n",
       "      <th>fta_tb</th>\n",
       "      <th>ftm_tb</th>\n",
       "      <th>oreb_tb</th>\n",
       "      <th>pf_tb</th>\n",
       "      <th>pts_tb</th>\n",
       "      <th>reb_tb</th>\n",
       "      <th>stl_tb</th>\n",
       "      <th>team_id_tb</th>\n",
       "      <th>to_tb</th>\n",
       "      <th>g_tb</th>\n",
       "      <th>p_games_tb</th>\n",
       "      <th>ast_tb_opp</th>\n",
       "      <th>blk_tb_opp</th>\n",
       "      <th>dreb_tb_opp</th>\n",
       "      <th>fg3a_tb_opp</th>\n",
       "      <th>fg3m_tb_opp</th>\n",
       "      <th>fga_tb_opp</th>\n",
       "      <th>fgm_tb_opp</th>\n",
       "      <th>fta_tb_opp</th>\n",
       "      <th>ftm_tb_opp</th>\n",
       "      <th>oreb_tb_opp</th>\n",
       "      <th>pf_tb_opp</th>\n",
       "      <th>pts_tb_opp</th>\n",
       "      <th>reb_tb_opp</th>\n",
       "      <th>stl_tb_opp</th>\n",
       "      <th>to_tb_opp</th>\n",
       "      <th>g_tb_opp</th>\n",
       "      <th>p_games_tb_opp</th>\n",
       "      <th>w_rate_tb</th>\n",
       "      <th>l_tb</th>\n",
       "      <th>w_tb_opp</th>\n",
       "      <th>l_tb_opp</th>\n",
       "      <th>efg_tb</th>\n",
       "      <th>fgp_tb</th>\n",
       "      <th>efg_tb_opp</th>\n",
       "      <th>fgp_tb_opp</th>\n",
       "      <th>fta_fga_tb</th>\n",
       "      <th>fta_fga_tb_opp</th>\n",
       "      <th>oreb_p_tb</th>\n",
       "      <th>dreb_p_tb</th>\n",
       "      <th>oreb_p_tb_opp</th>\n",
       "      <th>dreb_p_tb_opp</th>\n",
       "      <th>fg3p_tb_opp</th>\n",
       "      <th>ftp_tb_opp</th>\n",
       "      <th>fg3p_tb</th>\n",
       "      <th>ftp_tb</th>\n",
       "      <th>pts_ast_ta</th>\n",
       "      <th>pts_ast_tb</th>\n",
       "      <th>pts_ast_ta_opp</th>\n",
       "      <th>pts_ast_tb_opp</th>\n",
       "      <th>game_win_rates_ta</th>\n",
       "      <th>game_win_rates_tb</th>\n",
       "    </tr>\n",
       "  </thead>\n",
       "  <tbody>\n",
       "  </tbody>\n",
       "</table>\n",
       "</div>"
      ],
      "text/plain": [
       "Empty DataFrame\n",
       "Columns: [away, home, arena, location, time, date, d_filter, team_name_ta, team_name_tb, ast_ta, blk_ta, dreb_ta, fg3a_ta, fg3m_ta, fga_ta, fgm_ta, fta_ta, ftm_ta, oreb_ta, pf_ta, pts_ta, reb_ta, stl_ta, team_id_ta, to_ta, g_ta, p_games_ta, ast_ta_opp, blk_ta_opp, dreb_ta_opp, fg3a_ta_opp, fg3m_ta_opp, fga_ta_opp, fgm_ta_opp, fta_ta_opp, ftm_ta_opp, oreb_ta_opp, pf_ta_opp, pts_ta_opp, reb_ta_opp, stl_ta_opp, to_ta_opp, g_ta_opp, p_games_ta_opp, wl_ta, w_rate_ta, l_ta, w_ta_opp, l_ta_opp, efg_ta, fgp_ta, efg_ta_opp, fgp_ta_opp, fta_fga_ta, fta_fga_ta_opp, oreb_p_ta, dreb_p_ta, oreb_p_ta_opp, dreb_p_ta_opp, fg3p_ta_opp, ftp_ta_opp, fg3p_ta, ftp_ta, ast_tb, blk_tb, dreb_tb, fg3a_tb, fg3m_tb, fga_tb, fgm_tb, fta_tb, ftm_tb, oreb_tb, pf_tb, pts_tb, reb_tb, stl_tb, team_id_tb, to_tb, g_tb, p_games_tb, ast_tb_opp, blk_tb_opp, dreb_tb_opp, fg3a_tb_opp, fg3m_tb_opp, fga_tb_opp, fgm_tb_opp, fta_tb_opp, ftm_tb_opp, oreb_tb_opp, pf_tb_opp, pts_tb_opp, reb_tb_opp, stl_tb_opp, to_tb_opp, g_tb_opp, p_games_tb_opp, w_rate_tb, l_tb, ...]\n",
       "Index: []"
      ]
     },
     "execution_count": 199,
     "metadata": {},
     "output_type": "execute_result"
    }
   ],
   "source": [
    "today_predict_table[today_predict_table.ast_ta.isnull()]"
   ]
  },
  {
   "cell_type": "code",
   "execution_count": 200,
   "metadata": {},
   "outputs": [
    {
     "data": {
      "text/html": [
       "<div>\n",
       "<style>\n",
       "    .dataframe thead tr:only-child th {\n",
       "        text-align: right;\n",
       "    }\n",
       "\n",
       "    .dataframe thead th {\n",
       "        text-align: left;\n",
       "    }\n",
       "\n",
       "    .dataframe tbody tr th {\n",
       "        vertical-align: top;\n",
       "    }\n",
       "</style>\n",
       "<table border=\"1\" class=\"dataframe\">\n",
       "  <thead>\n",
       "    <tr style=\"text-align: right;\">\n",
       "      <th></th>\n",
       "      <th>away</th>\n",
       "      <th>home</th>\n",
       "      <th>arena</th>\n",
       "      <th>location</th>\n",
       "      <th>time</th>\n",
       "      <th>d_filter</th>\n",
       "      <th>home_w</th>\n",
       "      <th>phome_w</th>\n",
       "    </tr>\n",
       "  </thead>\n",
       "  <tbody>\n",
       "    <tr>\n",
       "      <th>0</th>\n",
       "      <td>New Orleans Pelicans</td>\n",
       "      <td>Detroit Pistons</td>\n",
       "      <td>Little Caesars Arena</td>\n",
       "      <td>Detroit, MI</td>\n",
       "      <td>7:00 PM ET</td>\n",
       "      <td>12-02</td>\n",
       "      <td>1</td>\n",
       "      <td>0.56</td>\n",
       "    </tr>\n",
       "    <tr>\n",
       "      <th>1</th>\n",
       "      <td>New York Knicks</td>\n",
       "      <td>Philadelphia 76ers</td>\n",
       "      <td>Wells Fargo Center</td>\n",
       "      <td>Philadelphia, PA</td>\n",
       "      <td>7:00 PM ET</td>\n",
       "      <td>12-02</td>\n",
       "      <td>1</td>\n",
       "      <td>0.73</td>\n",
       "    </tr>\n",
       "    <tr>\n",
       "      <th>2</th>\n",
       "      <td>LA Clippers</td>\n",
       "      <td>Brooklyn Nets</td>\n",
       "      <td>Barclays Center</td>\n",
       "      <td>Brooklyn, NY</td>\n",
       "      <td>7:30 PM ET</td>\n",
       "      <td>12-02</td>\n",
       "      <td>0</td>\n",
       "      <td>0.46</td>\n",
       "    </tr>\n",
       "    <tr>\n",
       "      <th>3</th>\n",
       "      <td>Orlando Magic</td>\n",
       "      <td>Chicago Bulls</td>\n",
       "      <td>United Center</td>\n",
       "      <td>Chicago, IL</td>\n",
       "      <td>8:00 PM ET</td>\n",
       "      <td>12-02</td>\n",
       "      <td>1</td>\n",
       "      <td>0.61</td>\n",
       "    </tr>\n",
       "    <tr>\n",
       "      <th>4</th>\n",
       "      <td>San Antonio Spurs</td>\n",
       "      <td>Utah Jazz</td>\n",
       "      <td>Vivint Smart Home Arena</td>\n",
       "      <td>Salt Lake City, UT</td>\n",
       "      <td>9:00 PM ET</td>\n",
       "      <td>12-02</td>\n",
       "      <td>0</td>\n",
       "      <td>0.50</td>\n",
       "    </tr>\n",
       "    <tr>\n",
       "      <th>5</th>\n",
       "      <td>Phoenix Suns</td>\n",
       "      <td>Golden State Warriors</td>\n",
       "      <td>ORACLE Arena</td>\n",
       "      <td>Oakland, CA</td>\n",
       "      <td>10:30 PM ET</td>\n",
       "      <td>12-02</td>\n",
       "      <td>1</td>\n",
       "      <td>0.93</td>\n",
       "    </tr>\n",
       "  </tbody>\n",
       "</table>\n",
       "</div>"
      ],
      "text/plain": [
       "                   away                   home                    arena  \\\n",
       "0  New Orleans Pelicans        Detroit Pistons     Little Caesars Arena   \n",
       "1       New York Knicks     Philadelphia 76ers       Wells Fargo Center   \n",
       "2           LA Clippers          Brooklyn Nets          Barclays Center   \n",
       "3         Orlando Magic          Chicago Bulls            United Center   \n",
       "4     San Antonio Spurs              Utah Jazz  Vivint Smart Home Arena   \n",
       "5          Phoenix Suns  Golden State Warriors             ORACLE Arena   \n",
       "\n",
       "             location         time d_filter  home_w  phome_w  \n",
       "0         Detroit, MI   7:00 PM ET    12-02       1     0.56  \n",
       "1    Philadelphia, PA   7:00 PM ET    12-02       1     0.73  \n",
       "2        Brooklyn, NY   7:30 PM ET    12-02       0     0.46  \n",
       "3         Chicago, IL   8:00 PM ET    12-02       1     0.61  \n",
       "4  Salt Lake City, UT   9:00 PM ET    12-02       0     0.50  \n",
       "5         Oakland, CA  10:30 PM ET    12-02       1     0.93  "
      ]
     },
     "execution_count": 200,
     "metadata": {},
     "output_type": "execute_result"
    }
   ],
   "source": [
    "today_predict_table = making_predict_table(predictions, today, ta_table, tb_table)\n",
    "today_predict = making_predictions(today_predict_table, model_9_ratio_vars)\n",
    "today_predict"
   ]
  },
  {
   "cell_type": "markdown",
   "metadata": {},
   "source": [
    "### Today's actual games played!"
   ]
  },
  {
   "cell_type": "code",
   "execution_count": 201,
   "metadata": {},
   "outputs": [
    {
     "data": {
      "text/html": [
       "<div>\n",
       "<style>\n",
       "    .dataframe thead tr:only-child th {\n",
       "        text-align: right;\n",
       "    }\n",
       "\n",
       "    .dataframe thead th {\n",
       "        text-align: left;\n",
       "    }\n",
       "\n",
       "    .dataframe tbody tr th {\n",
       "        vertical-align: top;\n",
       "    }\n",
       "</style>\n",
       "<table border=\"1\" class=\"dataframe\">\n",
       "  <thead>\n",
       "    <tr style=\"text-align: right;\">\n",
       "      <th></th>\n",
       "      <th>game_id</th>\n",
       "      <th>game_date</th>\n",
       "      <th>team_name_ta</th>\n",
       "      <th>team_name_tb</th>\n",
       "      <th>pts_ta</th>\n",
       "      <th>pts_tb</th>\n",
       "      <th>predictions</th>\n",
       "    </tr>\n",
       "  </thead>\n",
       "  <tbody>\n",
       "    <tr>\n",
       "      <th>0</th>\n",
       "      <td>21700841</td>\n",
       "      <td>2018-02-12</td>\n",
       "      <td>Pistons</td>\n",
       "      <td>Pelicans</td>\n",
       "      <td>103</td>\n",
       "      <td>118</td>\n",
       "      <td>0</td>\n",
       "    </tr>\n",
       "    <tr>\n",
       "      <th>1</th>\n",
       "      <td>21700842</td>\n",
       "      <td>2018-02-12</td>\n",
       "      <td>76ers</td>\n",
       "      <td>Knicks</td>\n",
       "      <td>108</td>\n",
       "      <td>92</td>\n",
       "      <td>1</td>\n",
       "    </tr>\n",
       "    <tr>\n",
       "      <th>2</th>\n",
       "      <td>21700843</td>\n",
       "      <td>2018-02-12</td>\n",
       "      <td>Nets</td>\n",
       "      <td>Clippers</td>\n",
       "      <td>101</td>\n",
       "      <td>114</td>\n",
       "      <td>0</td>\n",
       "    </tr>\n",
       "    <tr>\n",
       "      <th>3</th>\n",
       "      <td>21700844</td>\n",
       "      <td>2018-02-12</td>\n",
       "      <td>Bulls</td>\n",
       "      <td>Magic</td>\n",
       "      <td>105</td>\n",
       "      <td>101</td>\n",
       "      <td>1</td>\n",
       "    </tr>\n",
       "  </tbody>\n",
       "</table>\n",
       "</div>"
      ],
      "text/plain": [
       "    game_id  game_date team_name_ta team_name_tb  pts_ta  pts_tb  predictions\n",
       "0  21700841 2018-02-12      Pistons     Pelicans     103     118            0\n",
       "1  21700842 2018-02-12        76ers       Knicks     108      92            1\n",
       "2  21700843 2018-02-12         Nets     Clippers     101     114            0\n",
       "3  21700844 2018-02-12        Bulls        Magic     105     101            1"
      ]
     },
     "execution_count": 201,
     "metadata": {},
     "output_type": "execute_result"
    }
   ],
   "source": [
    "today_games = today_games_results(win_loss_csv, date_to_remove)\n",
    "today_games"
   ]
  },
  {
   "cell_type": "markdown",
   "metadata": {},
   "source": [
    "### Comparing final results with output! "
   ]
  },
  {
   "cell_type": "code",
   "execution_count": 202,
   "metadata": {
    "collapsed": true
   },
   "outputs": [],
   "source": [
    "today_predict['team_name_ta'] = [i.split(\" \")[-1] for i in today_predict[\"home\"]]\n",
    "today_predict['team_name_tb'] = [i.split(\" \")[-1] for i in today_predict[\"away\"]]\n",
    "today_predict['team_name_ta'].replace(\"Blazers\", \"Trail Blazers\", inplace=True)\n",
    "today_predict['team_name_tb'].replace(\"Blazers\", \"Trail Blazers\", inplace=True)"
   ]
  },
  {
   "cell_type": "code",
   "execution_count": 203,
   "metadata": {},
   "outputs": [
    {
     "data": {
      "text/html": [
       "<div>\n",
       "<style>\n",
       "    .dataframe thead tr:only-child th {\n",
       "        text-align: right;\n",
       "    }\n",
       "\n",
       "    .dataframe thead th {\n",
       "        text-align: left;\n",
       "    }\n",
       "\n",
       "    .dataframe tbody tr th {\n",
       "        vertical-align: top;\n",
       "    }\n",
       "</style>\n",
       "<table border=\"1\" class=\"dataframe\">\n",
       "  <thead>\n",
       "    <tr style=\"text-align: right;\">\n",
       "      <th></th>\n",
       "      <th>away</th>\n",
       "      <th>home</th>\n",
       "      <th>location</th>\n",
       "      <th>home_w</th>\n",
       "      <th>phome_w</th>\n",
       "      <th>predictions</th>\n",
       "      <th>d_filter</th>\n",
       "      <th>pts_ta</th>\n",
       "      <th>pts_tb</th>\n",
       "      <th>p_score</th>\n",
       "    </tr>\n",
       "  </thead>\n",
       "  <tbody>\n",
       "    <tr>\n",
       "      <th>0</th>\n",
       "      <td>New Orleans Pelicans</td>\n",
       "      <td>Detroit Pistons</td>\n",
       "      <td>Detroit, MI</td>\n",
       "      <td>1</td>\n",
       "      <td>0.56</td>\n",
       "      <td>0.00</td>\n",
       "      <td>12-02</td>\n",
       "      <td>103.00</td>\n",
       "      <td>118.00</td>\n",
       "      <td>0</td>\n",
       "    </tr>\n",
       "    <tr>\n",
       "      <th>1</th>\n",
       "      <td>New York Knicks</td>\n",
       "      <td>Philadelphia 76ers</td>\n",
       "      <td>Philadelphia, PA</td>\n",
       "      <td>1</td>\n",
       "      <td>0.73</td>\n",
       "      <td>1.00</td>\n",
       "      <td>12-02</td>\n",
       "      <td>108.00</td>\n",
       "      <td>92.00</td>\n",
       "      <td>1</td>\n",
       "    </tr>\n",
       "    <tr>\n",
       "      <th>2</th>\n",
       "      <td>LA Clippers</td>\n",
       "      <td>Brooklyn Nets</td>\n",
       "      <td>Brooklyn, NY</td>\n",
       "      <td>0</td>\n",
       "      <td>0.46</td>\n",
       "      <td>0.00</td>\n",
       "      <td>12-02</td>\n",
       "      <td>101.00</td>\n",
       "      <td>114.00</td>\n",
       "      <td>1</td>\n",
       "    </tr>\n",
       "    <tr>\n",
       "      <th>3</th>\n",
       "      <td>Orlando Magic</td>\n",
       "      <td>Chicago Bulls</td>\n",
       "      <td>Chicago, IL</td>\n",
       "      <td>1</td>\n",
       "      <td>0.61</td>\n",
       "      <td>1.00</td>\n",
       "      <td>12-02</td>\n",
       "      <td>105.00</td>\n",
       "      <td>101.00</td>\n",
       "      <td>1</td>\n",
       "    </tr>\n",
       "    <tr>\n",
       "      <th>4</th>\n",
       "      <td>San Antonio Spurs</td>\n",
       "      <td>Utah Jazz</td>\n",
       "      <td>Salt Lake City, UT</td>\n",
       "      <td>0</td>\n",
       "      <td>0.50</td>\n",
       "      <td>nan</td>\n",
       "      <td>12-02</td>\n",
       "      <td>nan</td>\n",
       "      <td>nan</td>\n",
       "      <td>0</td>\n",
       "    </tr>\n",
       "    <tr>\n",
       "      <th>5</th>\n",
       "      <td>Phoenix Suns</td>\n",
       "      <td>Golden State Warriors</td>\n",
       "      <td>Oakland, CA</td>\n",
       "      <td>1</td>\n",
       "      <td>0.93</td>\n",
       "      <td>nan</td>\n",
       "      <td>12-02</td>\n",
       "      <td>nan</td>\n",
       "      <td>nan</td>\n",
       "      <td>0</td>\n",
       "    </tr>\n",
       "  </tbody>\n",
       "</table>\n",
       "</div>"
      ],
      "text/plain": [
       "                   away                   home            location  home_w  \\\n",
       "0  New Orleans Pelicans        Detroit Pistons         Detroit, MI       1   \n",
       "1       New York Knicks     Philadelphia 76ers    Philadelphia, PA       1   \n",
       "2           LA Clippers          Brooklyn Nets        Brooklyn, NY       0   \n",
       "3         Orlando Magic          Chicago Bulls         Chicago, IL       1   \n",
       "4     San Antonio Spurs              Utah Jazz  Salt Lake City, UT       0   \n",
       "5          Phoenix Suns  Golden State Warriors         Oakland, CA       1   \n",
       "\n",
       "   phome_w  predictions d_filter  pts_ta  pts_tb  p_score  \n",
       "0     0.56         0.00    12-02  103.00  118.00        0  \n",
       "1     0.73         1.00    12-02  108.00   92.00        1  \n",
       "2     0.46         0.00    12-02  101.00  114.00        1  \n",
       "3     0.61         1.00    12-02  105.00  101.00        1  \n",
       "4     0.50          nan    12-02     nan     nan        0  \n",
       "5     0.93          nan    12-02     nan     nan        0  "
      ]
     },
     "execution_count": 203,
     "metadata": {},
     "output_type": "execute_result"
    }
   ],
   "source": [
    "ffinal = pd.merge(today_predict, today_games, on=['team_name_ta', 'team_name_tb'], how='left')\n",
    "ffinal = ffinal[[\"away\", 'home', 'location', 'home_w', \"phome_w\", 'predictions', 'd_filter', 'pts_ta', 'pts_tb']]\n",
    "ffinal['p_score'] = 1\n",
    "ffinal.loc[ffinal['predictions'] != ffinal['home_w'], 'p_score'] = 0\n",
    "ffinal"
   ]
  },
  {
   "cell_type": "code",
   "execution_count": 204,
   "metadata": {},
   "outputs": [
    {
     "data": {
      "text/plain": [
       "0.5"
      ]
     },
     "execution_count": 204,
     "metadata": {},
     "output_type": "execute_result"
    }
   ],
   "source": [
    "ffinal['p_score'].sum() / float(len(ffinal))"
   ]
  },
  {
   "cell_type": "code",
   "execution_count": 187,
   "metadata": {
    "collapsed": true
   },
   "outputs": [],
   "source": [
    "ffinal.to_csv(\"predict/{}_predictions.csv\".format(date_to_remove), index=False)"
   ]
  },
  {
   "cell_type": "markdown",
   "metadata": {},
   "source": [
    "### Load prediction into Dropbox "
   ]
  },
  {
   "cell_type": "code",
   "execution_count": 62,
   "metadata": {},
   "outputs": [
    {
     "name": "stdout",
     "output_type": "stream",
     "text": [
      "Upload 2018-02-06_predictions.csv\n"
     ]
    }
   ],
   "source": [
    "os.chdir(base_folder + \"/predict\")\n",
    "load_file_into_my_dropbox(account, \"{}_predictions.csv\".format(date_to_remove), folder=\"nba games/predictions/\")\n",
    "print(\"Upload {}_predictions.csv\".format(date_to_remove))\n",
    "os.chdir(base_folder)"
   ]
  },
  {
   "cell_type": "markdown",
   "metadata": {},
   "source": [
    "## Next game's predictions!"
   ]
  },
  {
   "cell_type": "code",
   "execution_count": 30,
   "metadata": {},
   "outputs": [
    {
     "data": {
      "text/html": [
       "<div>\n",
       "<style>\n",
       "    .dataframe thead tr:only-child th {\n",
       "        text-align: right;\n",
       "    }\n",
       "\n",
       "    .dataframe thead th {\n",
       "        text-align: left;\n",
       "    }\n",
       "\n",
       "    .dataframe tbody tr th {\n",
       "        vertical-align: top;\n",
       "    }\n",
       "</style>\n",
       "<table border=\"1\" class=\"dataframe\">\n",
       "  <thead>\n",
       "    <tr style=\"text-align: right;\">\n",
       "      <th></th>\n",
       "      <th>away</th>\n",
       "      <th>home</th>\n",
       "      <th>arena</th>\n",
       "      <th>location</th>\n",
       "      <th>time</th>\n",
       "      <th>date</th>\n",
       "      <th>d_filter</th>\n",
       "    </tr>\n",
       "  </thead>\n",
       "  <tbody>\n",
       "    <tr>\n",
       "      <th>796</th>\n",
       "      <td>Cleveland Cavaliers</td>\n",
       "      <td>Orlando Magic</td>\n",
       "      <td>Amway Center</td>\n",
       "      <td>Orlando, FL</td>\n",
       "      <td>7:00 PM ET</td>\n",
       "      <td>Tuesday, February 6</td>\n",
       "      <td>06-02</td>\n",
       "    </tr>\n",
       "    <tr>\n",
       "      <th>797</th>\n",
       "      <td>Boston Celtics</td>\n",
       "      <td>Toronto Raptors</td>\n",
       "      <td>Air Canada Centre</td>\n",
       "      <td>Toronto, ON</td>\n",
       "      <td>7:30 PM ET</td>\n",
       "      <td>Tuesday, February 6</td>\n",
       "      <td>06-02</td>\n",
       "    </tr>\n",
       "    <tr>\n",
       "      <th>798</th>\n",
       "      <td>Memphis Grizzlies</td>\n",
       "      <td>Atlanta Hawks</td>\n",
       "      <td>Philips Arena</td>\n",
       "      <td>Atlanta, GA</td>\n",
       "      <td>7:30 PM ET</td>\n",
       "      <td>Tuesday, February 6</td>\n",
       "      <td>06-02</td>\n",
       "    </tr>\n",
       "    <tr>\n",
       "      <th>799</th>\n",
       "      <td>Houston Rockets</td>\n",
       "      <td>Brooklyn Nets</td>\n",
       "      <td>Barclays Center</td>\n",
       "      <td>Brooklyn, NY</td>\n",
       "      <td>7:30 PM ET</td>\n",
       "      <td>Tuesday, February 6</td>\n",
       "      <td>06-02</td>\n",
       "    </tr>\n",
       "    <tr>\n",
       "      <th>800</th>\n",
       "      <td>Milwaukee Bucks</td>\n",
       "      <td>New York Knicks</td>\n",
       "      <td>Madison Square Garden</td>\n",
       "      <td>New York, NY</td>\n",
       "      <td>7:30 PM ET</td>\n",
       "      <td>Tuesday, February 6</td>\n",
       "      <td>06-02</td>\n",
       "    </tr>\n",
       "    <tr>\n",
       "      <th>801</th>\n",
       "      <td>Washington Wizards</td>\n",
       "      <td>Philadelphia 76ers</td>\n",
       "      <td>Wells Fargo Center</td>\n",
       "      <td>Philadelphia, PA</td>\n",
       "      <td>8:00 PM ET</td>\n",
       "      <td>Tuesday, February 6</td>\n",
       "      <td>06-02</td>\n",
       "    </tr>\n",
       "    <tr>\n",
       "      <th>802</th>\n",
       "      <td>Oklahoma City Thunder</td>\n",
       "      <td>Golden State Warriors</td>\n",
       "      <td>ORACLE Arena</td>\n",
       "      <td>Oakland, CA</td>\n",
       "      <td>10:30 PM ET</td>\n",
       "      <td>Tuesday, February 6</td>\n",
       "      <td>06-02</td>\n",
       "    </tr>\n",
       "    <tr>\n",
       "      <th>803</th>\n",
       "      <td>Phoenix Suns</td>\n",
       "      <td>Los Angeles Lakers</td>\n",
       "      <td>Staples Center</td>\n",
       "      <td>Los Angeles, CA</td>\n",
       "      <td>10:30 PM ET</td>\n",
       "      <td>Tuesday, February 6</td>\n",
       "      <td>06-02</td>\n",
       "    </tr>\n",
       "  </tbody>\n",
       "</table>\n",
       "</div>"
      ],
      "text/plain": [
       "                      away                   home                  arena  \\\n",
       "796    Cleveland Cavaliers          Orlando Magic           Amway Center   \n",
       "797         Boston Celtics        Toronto Raptors      Air Canada Centre   \n",
       "798      Memphis Grizzlies          Atlanta Hawks          Philips Arena   \n",
       "799        Houston Rockets          Brooklyn Nets        Barclays Center   \n",
       "800        Milwaukee Bucks        New York Knicks  Madison Square Garden   \n",
       "801     Washington Wizards     Philadelphia 76ers     Wells Fargo Center   \n",
       "802  Oklahoma City Thunder  Golden State Warriors           ORACLE Arena   \n",
       "803           Phoenix Suns     Los Angeles Lakers         Staples Center   \n",
       "\n",
       "             location         time                 date d_filter  \n",
       "796       Orlando, FL   7:00 PM ET  Tuesday, February 6    06-02  \n",
       "797       Toronto, ON   7:30 PM ET  Tuesday, February 6    06-02  \n",
       "798       Atlanta, GA   7:30 PM ET  Tuesday, February 6    06-02  \n",
       "799      Brooklyn, NY   7:30 PM ET  Tuesday, February 6    06-02  \n",
       "800      New York, NY   7:30 PM ET  Tuesday, February 6    06-02  \n",
       "801  Philadelphia, PA   8:00 PM ET  Tuesday, February 6    06-02  \n",
       "802       Oakland, CA  10:30 PM ET  Tuesday, February 6    06-02  \n",
       "803   Los Angeles, CA  10:30 PM ET  Tuesday, February 6    06-02  "
      ]
     },
     "execution_count": 30,
     "metadata": {},
     "output_type": "execute_result"
    }
   ],
   "source": [
    "next_day = (date_to_remove + datetime.timedelta(days=1)).strftime(\"%d-%m\")\n",
    "next_day_predict = schedule[schedule['d_filter'] == next_day]\n",
    "next_day_predict"
   ]
  },
  {
   "cell_type": "code",
   "execution_count": 31,
   "metadata": {
    "collapsed": true
   },
   "outputs": [],
   "source": [
    "next_day_predict_table = making_predict_table(next_day_predict, final_table, ta_table, tb_table)"
   ]
  },
  {
   "cell_type": "code",
   "execution_count": 32,
   "metadata": {},
   "outputs": [
    {
     "data": {
      "text/html": [
       "<div>\n",
       "<style>\n",
       "    .dataframe thead tr:only-child th {\n",
       "        text-align: right;\n",
       "    }\n",
       "\n",
       "    .dataframe thead th {\n",
       "        text-align: left;\n",
       "    }\n",
       "\n",
       "    .dataframe tbody tr th {\n",
       "        vertical-align: top;\n",
       "    }\n",
       "</style>\n",
       "<table border=\"1\" class=\"dataframe\">\n",
       "  <thead>\n",
       "    <tr style=\"text-align: right;\">\n",
       "      <th></th>\n",
       "      <th>away</th>\n",
       "      <th>home</th>\n",
       "      <th>arena</th>\n",
       "      <th>location</th>\n",
       "      <th>time</th>\n",
       "      <th>d_filter</th>\n",
       "      <th>home_w</th>\n",
       "      <th>phome_w</th>\n",
       "    </tr>\n",
       "  </thead>\n",
       "  <tbody>\n",
       "    <tr>\n",
       "      <th>0</th>\n",
       "      <td>Cleveland Cavaliers</td>\n",
       "      <td>Orlando Magic</td>\n",
       "      <td>Amway Center</td>\n",
       "      <td>Orlando, FL</td>\n",
       "      <td>7:00 PM ET</td>\n",
       "      <td>06-02</td>\n",
       "      <td>0</td>\n",
       "      <td>0.37</td>\n",
       "    </tr>\n",
       "    <tr>\n",
       "      <th>1</th>\n",
       "      <td>Boston Celtics</td>\n",
       "      <td>Toronto Raptors</td>\n",
       "      <td>Air Canada Centre</td>\n",
       "      <td>Toronto, ON</td>\n",
       "      <td>7:30 PM ET</td>\n",
       "      <td>06-02</td>\n",
       "      <td>1</td>\n",
       "      <td>0.65</td>\n",
       "    </tr>\n",
       "    <tr>\n",
       "      <th>2</th>\n",
       "      <td>Memphis Grizzlies</td>\n",
       "      <td>Atlanta Hawks</td>\n",
       "      <td>Philips Arena</td>\n",
       "      <td>Atlanta, GA</td>\n",
       "      <td>7:30 PM ET</td>\n",
       "      <td>06-02</td>\n",
       "      <td>0</td>\n",
       "      <td>0.49</td>\n",
       "    </tr>\n",
       "    <tr>\n",
       "      <th>3</th>\n",
       "      <td>Houston Rockets</td>\n",
       "      <td>Brooklyn Nets</td>\n",
       "      <td>Barclays Center</td>\n",
       "      <td>Brooklyn, NY</td>\n",
       "      <td>7:30 PM ET</td>\n",
       "      <td>06-02</td>\n",
       "      <td>0</td>\n",
       "      <td>0.26</td>\n",
       "    </tr>\n",
       "    <tr>\n",
       "      <th>4</th>\n",
       "      <td>Milwaukee Bucks</td>\n",
       "      <td>New York Knicks</td>\n",
       "      <td>Madison Square Garden</td>\n",
       "      <td>New York, NY</td>\n",
       "      <td>7:30 PM ET</td>\n",
       "      <td>06-02</td>\n",
       "      <td>1</td>\n",
       "      <td>0.54</td>\n",
       "    </tr>\n",
       "    <tr>\n",
       "      <th>5</th>\n",
       "      <td>Washington Wizards</td>\n",
       "      <td>Philadelphia 76ers</td>\n",
       "      <td>Wells Fargo Center</td>\n",
       "      <td>Philadelphia, PA</td>\n",
       "      <td>8:00 PM ET</td>\n",
       "      <td>06-02</td>\n",
       "      <td>1</td>\n",
       "      <td>0.60</td>\n",
       "    </tr>\n",
       "    <tr>\n",
       "      <th>6</th>\n",
       "      <td>Oklahoma City Thunder</td>\n",
       "      <td>Golden State Warriors</td>\n",
       "      <td>ORACLE Arena</td>\n",
       "      <td>Oakland, CA</td>\n",
       "      <td>10:30 PM ET</td>\n",
       "      <td>06-02</td>\n",
       "      <td>1</td>\n",
       "      <td>0.82</td>\n",
       "    </tr>\n",
       "    <tr>\n",
       "      <th>7</th>\n",
       "      <td>Phoenix Suns</td>\n",
       "      <td>Los Angeles Lakers</td>\n",
       "      <td>Staples Center</td>\n",
       "      <td>Los Angeles, CA</td>\n",
       "      <td>10:30 PM ET</td>\n",
       "      <td>06-02</td>\n",
       "      <td>1</td>\n",
       "      <td>0.69</td>\n",
       "    </tr>\n",
       "  </tbody>\n",
       "</table>\n",
       "</div>"
      ],
      "text/plain": [
       "                    away                   home                  arena  \\\n",
       "0    Cleveland Cavaliers          Orlando Magic           Amway Center   \n",
       "1         Boston Celtics        Toronto Raptors      Air Canada Centre   \n",
       "2      Memphis Grizzlies          Atlanta Hawks          Philips Arena   \n",
       "3        Houston Rockets          Brooklyn Nets        Barclays Center   \n",
       "4        Milwaukee Bucks        New York Knicks  Madison Square Garden   \n",
       "5     Washington Wizards     Philadelphia 76ers     Wells Fargo Center   \n",
       "6  Oklahoma City Thunder  Golden State Warriors           ORACLE Arena   \n",
       "7           Phoenix Suns     Los Angeles Lakers         Staples Center   \n",
       "\n",
       "           location         time d_filter  home_w  phome_w  \n",
       "0       Orlando, FL   7:00 PM ET    06-02       0     0.37  \n",
       "1       Toronto, ON   7:30 PM ET    06-02       1     0.65  \n",
       "2       Atlanta, GA   7:30 PM ET    06-02       0     0.49  \n",
       "3      Brooklyn, NY   7:30 PM ET    06-02       0     0.26  \n",
       "4      New York, NY   7:30 PM ET    06-02       1     0.54  \n",
       "5  Philadelphia, PA   8:00 PM ET    06-02       1     0.60  \n",
       "6       Oakland, CA  10:30 PM ET    06-02       1     0.82  \n",
       "7   Los Angeles, CA  10:30 PM ET    06-02       1     0.69  "
      ]
     },
     "execution_count": 32,
     "metadata": {},
     "output_type": "execute_result"
    }
   ],
   "source": [
    "tmr_predict = making_predictions(next_day_predict_table, model_9_ratio_vars)\n",
    "tmr_predict"
   ]
  }
 ],
 "metadata": {
  "kernelspec": {
   "display_name": "Python 2",
   "language": "python",
   "name": "python2"
  },
  "language_info": {
   "codemirror_mode": {
    "name": "ipython",
    "version": 2
   },
   "file_extension": ".py",
   "mimetype": "text/x-python",
   "name": "python",
   "nbconvert_exporter": "python",
   "pygments_lexer": "ipython2",
   "version": "2.7.13"
  }
 },
 "nbformat": 4,
 "nbformat_minor": 2
}
