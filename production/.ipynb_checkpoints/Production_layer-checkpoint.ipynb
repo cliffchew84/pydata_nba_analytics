{
 "cells": [
  {
   "cell_type": "markdown",
   "metadata": {},
   "source": [
    "### Production code\n",
    "- **Things I hope to improve**\n",
    "    - Wrote scraper for today's games being predicted, and combine them into the structure that can be easily compared \n",
    "    - Make going through different models much more easily --> Work on the player specific analyses."
   ]
  },
  {
   "cell_type": "code",
   "execution_count": 1,
   "metadata": {
    "collapsed": true
   },
   "outputs": [],
   "source": [
    "import os\n",
    "import glob\n",
    "import gspread\n",
    "import warnings\n",
    "import datetime\n",
    "import numpy as np\n",
    "import pandas as pd\n",
    "from patsy import dmatrices\n",
    "from sklearn.externals import joblib\n",
    "\n",
    "from sklearn.linear_model import LogisticRegression\n",
    "pd.options.display.float_format = '{:,.2f}'.format\n",
    "from sklearn import metrics\n",
    "from prod_funs import *\n",
    "\n",
    "warnings.filterwarnings('ignore')\n",
    "pd.set_option('display.max_rows', 500)\n",
    "pd.set_option('display.max_columns', 500)"
   ]
  },
  {
   "cell_type": "markdown",
   "metadata": {},
   "source": [
    "### Load model to be predicted"
   ]
  },
  {
   "cell_type": "code",
   "execution_count": 2,
   "metadata": {
    "collapsed": true
   },
   "outputs": [],
   "source": [
    "base_folder = os.path.abspath(os.getcwd())\n",
    "filename = 'First_production_model.sav'\n",
    "loaded_model = joblib.load(filename)"
   ]
  },
  {
   "cell_type": "markdown",
   "metadata": {},
   "source": [
    "## Dropbox Stuff \n",
    "#### Make sure that I have scripted the new data first!"
   ]
  },
  {
   "cell_type": "code",
   "execution_count": 3,
   "metadata": {
    "collapsed": true
   },
   "outputs": [],
   "source": [
    "from dropbox_functions import authenticate_into_dropbox\n",
    "from dropbox_functions import load_file_into_my_dropbox, download_file_from_dropbox\n",
    "account = authenticate_into_dropbox()\n",
    "files_to_shift = ['game_date_2017.csv', 'main_players_2017.csv', 'more_home_away_2017.csv', 'more_team_stats_2017.csv',\n",
    "                  'more_wins_losses_2017.csv', 'referees_2017.csv', 'start_bench_2017.csv', 'team_2017.csv']"
   ]
  },
  {
   "cell_type": "markdown",
   "metadata": {},
   "source": [
    "### Work some flow to include scraping into this position "
   ]
  },
  {
   "cell_type": "code",
   "execution_count": 4,
   "metadata": {},
   "outputs": [
    {
     "data": {
      "text/plain": [
       "21"
      ]
     },
     "execution_count": 4,
     "metadata": {},
     "output_type": "execute_result"
    }
   ],
   "source": [
    "file_time_modified = os.path.getmtime(\"game_date_2017.csv\")\n",
    "time_now = int(datetime.datetime.now().strftime('%H'))\n",
    "time_now"
   ]
  },
  {
   "cell_type": "markdown",
   "metadata": {},
   "source": [
    "### Functions for data interactions with Dropbox "
   ]
  },
  {
   "cell_type": "code",
   "execution_count": 5,
   "metadata": {
    "collapsed": true
   },
   "outputs": [],
   "source": [
    "def scrape_data():\n",
    "    pass\n",
    "\n",
    "def delete_dropbox_data(account, files_to_shift):\n",
    "    for i in files_to_shift:\n",
    "        try:\n",
    "            account.files_delete(\"/nba games/{}\".format(i))\n",
    "            print(\"Delete {} from dropbox\".format(i))\n",
    "        except:\n",
    "            print(\"No {}\".format(i))\n",
    "\n",
    "def upload_dropbx_data(account, files_to_shift):\n",
    "    for i in files_to_shift:\n",
    "        load_file_into_my_dropbox(account, i)\n",
    "    print(\"Upload {}\".format(i))"
   ]
  },
  {
   "cell_type": "markdown",
   "metadata": {},
   "source": [
    "### Scenarios\n",
    "1. If files are not updated today and time is after 5am, update!\n",
    "1. If files is not updated today but time is before 5am, don't update\n",
    "1. If file is updated today already, don't update"
   ]
  },
  {
   "cell_type": "code",
   "execution_count": 6,
   "metadata": {},
   "outputs": [
    {
     "name": "stdout",
     "output_type": "stream",
     "text": [
      "You are early! The data is updated today! Woho!\n",
      " \n",
      "2018-02-04\n"
     ]
    }
   ],
   "source": [
    "if (datetime.datetime.fromtimestamp(file_time_modified).strftime('%Y-%m-%d') != datetime.datetime.today().strftime('%Y-%m-%d')):\n",
    "    if time_now > 5:\n",
    "        print(\"Update the data!\")\n",
    "        scrape_data() # I need to get this set up first--> This, however, requires me to set up some tracking of number of games played...\n",
    "        # delete_dropbox_data(account, files_to_shift)\n",
    "        # upload_dropbx_data(account, files_to_shift)\n",
    "    else:\n",
    "        print(\"You are working hard! The data was updated yesterday, but you are still working hard in the wee hours!\")\n",
    "        date_to_remove = (datetime.datetime.today() - datetime.timedelta(days=2)).date()\n",
    "else:\n",
    "    print(\"You are early! The data is updated today! Woho!\")\n",
    "    date_to_remove = (datetime.datetime.today() - datetime.timedelta(days=1)).date()\n",
    "\n",
    "print(\" \")\n",
    "print(date_to_remove)"
   ]
  },
  {
   "cell_type": "markdown",
   "metadata": {},
   "source": [
    "### Delete data from Dropbox "
   ]
  },
  {
   "cell_type": "code",
   "execution_count": 8,
   "metadata": {},
   "outputs": [
    {
     "name": "stdout",
     "output_type": "stream",
     "text": [
      "Delete game_date_2017.csv from dropbox\n",
      "Delete main_players_2017.csv from dropbox\n",
      "Delete more_home_away_2017.csv from dropbox\n",
      "Delete more_team_stats_2017.csv from dropbox\n",
      "Delete more_wins_losses_2017.csv from dropbox\n",
      "Delete referees_2017.csv from dropbox\n",
      "Delete start_bench_2017.csv from dropbox\n",
      "Delete team_2017.csv from dropbox\n"
     ]
    }
   ],
   "source": [
    "for i in files_to_shift:\n",
    "    try:\n",
    "        account.files_delete(\"/nba games/{}\".format(i))\n",
    "        print(\"Delete {} from dropbox\".format(i))\n",
    "    except:\n",
    "        print(\"No {}\".format(i))"
   ]
  },
  {
   "cell_type": "markdown",
   "metadata": {},
   "source": [
    "### Upload updated new data "
   ]
  },
  {
   "cell_type": "code",
   "execution_count": 9,
   "metadata": {},
   "outputs": [
    {
     "name": "stdout",
     "output_type": "stream",
     "text": [
      "Upload game_date_2017.csv\n",
      "Upload main_players_2017.csv\n",
      "Upload more_home_away_2017.csv\n",
      "Upload more_team_stats_2017.csv\n",
      "Upload more_wins_losses_2017.csv\n",
      "Upload referees_2017.csv\n",
      "Upload start_bench_2017.csv\n",
      "Upload team_2017.csv\n"
     ]
    }
   ],
   "source": [
    "for i in files_to_shift:\n",
    "    load_file_into_my_dropbox(account, i)\n",
    "    print(\"Upload {}\".format(i))"
   ]
  },
  {
   "cell_type": "markdown",
   "metadata": {},
   "source": [
    "### Download Dropbox into local file! "
   ]
  },
  {
   "cell_type": "code",
   "execution_count": 10,
   "metadata": {
    "collapsed": true
   },
   "outputs": [],
   "source": [
    "# for i in files_to_shift:\n",
    "#     download_file_from_dropbox(account, i)\n",
    "#     print(\"Download {} locally\".format(i))"
   ]
  },
  {
   "cell_type": "markdown",
   "metadata": {},
   "source": [
    "### To fix, if need to"
   ]
  },
  {
   "cell_type": "code",
   "execution_count": 663,
   "metadata": {
    "collapsed": true
   },
   "outputs": [],
   "source": [
    "date_to_remove = datetime.datetime(year=2018, month=2, day=4).date()\n",
    "# date_to_remove"
   ]
  },
  {
   "cell_type": "markdown",
   "metadata": {},
   "source": [
    "### Load data from existing season"
   ]
  },
  {
   "cell_type": "code",
   "execution_count": 664,
   "metadata": {
    "collapsed": true
   },
   "outputs": [],
   "source": [
    "# Check and reload data to remove duplicates\n",
    "for i in glob.glob(\"*2017.csv\"):\n",
    "    tmp = pd.read_csv(i)\n",
    "    tmp.drop_duplicates().to_csv(i, index=False)"
   ]
  },
  {
   "cell_type": "code",
   "execution_count": 665,
   "metadata": {
    "collapsed": true
   },
   "outputs": [],
   "source": [
    "final_table = pd.DataFrame()\n",
    "home_csv, teams_csv, more_stats_csv, game_date_csv, win_loss_csv = load_all_files(\"2017\")"
   ]
  },
  {
   "cell_type": "markdown",
   "metadata": {},
   "source": [
    "# Processing this season's games for prediction!"
   ]
  },
  {
   "cell_type": "code",
   "execution_count": 666,
   "metadata": {
    "collapsed": true
   },
   "outputs": [],
   "source": [
    "merge_home_away = create_home_away_var(home_csv).drop_duplicates()\n",
    "merge_date = pd.merge(merge_home_away, create_date_variable(game_date_csv))\n",
    "merge_team_stats = add_game_stats(teams_csv.drop_duplicates(), merge_date)\n",
    "\n",
    "merge_game_count = create_game_count_var(merge_team_stats)\n",
    "merge_previous_date = create_days_from_previous_games_var(merge_game_count)\n",
    "merge_opp = create_opp_stats(merge_previous_date)\n",
    "merge_opp = create_win_loss_vars(merge_opp)\n",
    "\"\"\" I need to cumulate all numeric stats \"\"\"\n",
    "var_to_accum = merge_opp.drop([\"GAME_ID\", \"TEAM_ID_x\", \"TEAM_ID_y\", \"TEAM_NAME_x\", \"TEAM_NAME_y\", \"G_x\", \"G_y\", \n",
    "                               \"Home\", \"GAME_DATE\", \"WL_x\", 'p_games_x', 'p_games_y', \"SEASON\", \"LIVE_PERIOD\"], axis=1).columns\n",
    "    \n",
    "\"\"\" Potential for change: Right now, I am using the entire season for the stats calculations. \n",
    "    However, it might be more accurate to use rolling window calculations instead.\"\"\"\n",
    "# Create accumulative variables\n",
    "merge_total = merge_opp.sort_values([\"TEAM_NAME_x\", \"GAME_DATE\"])\n",
    "merge_total[var_to_accum] = merge_total.groupby('TEAM_ID_x')[var_to_accum].transform(pd.Series.cumsum)\n",
    "\n",
    "# Create NBA domain-knowledge variables\n",
    "merge_total = create_rebs_efficiency_vars(create_fta_to_fga_ratio(create_efg_var(merge_total)))\n",
    "\n",
    "# Create percentage variables \n",
    "\"\"\"Dividing the cumulative stats of these variables by the games_played thus far to get their averages.\"\"\"\n",
    "vars_to_average = [\"OREB\", \"DREB\", \"REB\", \"AST\", \"STL\", \"BLK\", \"TO\", \"PF\", \"PTS\", \"W\", \"L\"]\n",
    "merge_total_ave = create_shooting_percentage_vars(create_averages(merge_total, vars_to_average))\n",
    "# merge_games_shifted = shift_game_stats_down_by_one(merge_total_ave)\n",
    "final_t_ab_opp = create_team_ab_and_opp_table(merge_total_ave)\n",
    "finals_home = filter_home_teams(final_t_ab_opp)\n",
    "final_table = final_table.append(finals_home)"
   ]
  },
  {
   "cell_type": "markdown",
   "metadata": {},
   "source": [
    "### Note on which day to predict!\n",
    "- I have predictions on today + tomorrow's games. "
   ]
  },
  {
   "cell_type": "code",
   "execution_count": 667,
   "metadata": {},
   "outputs": [
    {
     "data": {
      "text/plain": [
       "'2018-02-04'"
      ]
     },
     "execution_count": 667,
     "metadata": {},
     "output_type": "execute_result"
    }
   ],
   "source": [
    "date_to_remove.strftime('%Y-%m-%d')"
   ]
  },
  {
   "cell_type": "markdown",
   "metadata": {},
   "source": [
    "### Functions for predictions! "
   ]
  },
  {
   "cell_type": "code",
   "execution_count": 668,
   "metadata": {
    "collapsed": true
   },
   "outputs": [],
   "source": [
    "ta_table = final_table.copy()\n",
    "ta_table = ta_table[['game_id', ] + [i for i in final_table.columns if '_ta' in i]]\n",
    "\n",
    "tb_table = final_table.copy()\n",
    "tb_table = tb_table[['game_id', ] + [i for i in final_table.columns if '_ta' in i]]\n",
    "tb_table.columns = [i.replace(\"_ta_opp\", \"_tb_opp\").replace(\"_ta\", \"_tb\") for i in tb_table.columns]"
   ]
  },
  {
   "cell_type": "code",
   "execution_count": 669,
   "metadata": {
    "collapsed": true
   },
   "outputs": [],
   "source": [
    "def making_predict_table(predict_table, table, ta_table, tb_table):\n",
    "    # Create team_names for merging\n",
    "    predict_table[\"team_name_ta\"] = [i.split(\" \")[-1] for i in predict_table['home']]\n",
    "    predict_table['team_name_ta'].replace(\"Blazers\", \"Trail Blazers\", inplace=True)\n",
    "    predict_table[\"team_name_tb\"] = [i.split(\" \")[-1] for i in predict_table['away']]\n",
    "    predict_table['team_name_tb'].replace(\"Blazers\", \"Trail Blazers\", inplace=True)\n",
    "\n",
    "    \n",
    "    team_a_latest_stats = ta_table[ta_table[\"team_name_ta\"].isin(predict_table['team_name_ta'].unique().tolist())].sort_values(\n",
    "        [\"game_id\", 'team_name_ta'], ascending=[False, False]).drop_duplicates(['team_name_ta'])\n",
    "    team_b_latest_stats = tb_table[tb_table[\"team_name_tb\"].isin(predict_table['team_name_tb'].unique().tolist())].sort_values(\n",
    "        [\"game_id\", 'team_name_tb'], ascending=[False, False]).drop_duplicates(['team_name_tb'])\n",
    "\n",
    "    predict_table = pd.merge(\n",
    "        predict_table, \n",
    "        team_a_latest_stats[[i for i in final_table.columns if \"_ta\" in i] + [i for i in final_table.columns if \"_la\" in i]], \n",
    "        on='team_name_ta', how='left')\n",
    "\n",
    "    predict_table = pd.merge(\n",
    "        predict_table, \n",
    "        team_b_latest_stats[[i for i in final_table.columns if \"_tb\" in i] + [i for i in final_table.columns if \"_lb\" in i]], \n",
    "        on='team_name_tb', how='left')\n",
    "\n",
    "    predict_table[\"pts_ast_ta\"] = predict_table['pts_ta'] / predict_table['ast_ta']\n",
    "    predict_table[\"pts_ast_tb\"] = predict_table['pts_tb'] / predict_table['ast_tb']\n",
    "\n",
    "    predict_table[\"pts_ast_ta_opp\"] = predict_table['pts_ta'] / predict_table['ast_ta']\n",
    "    predict_table[\"pts_ast_tb_opp\"] = predict_table['pts_tb'] / predict_table['ast_tb']\n",
    "\n",
    "    predict_table['game_win_rates_ta'] = predict_table[\"w_rate_ta\"] * predict_table['g_ta'] \n",
    "    predict_table['game_win_rates_tb'] = predict_table[\"w_rate_tb\"] * predict_table['g_tb']\n",
    "    return predict_table"
   ]
  },
  {
   "cell_type": "code",
   "execution_count": 670,
   "metadata": {
    "collapsed": true
   },
   "outputs": [],
   "source": [
    "def making_predictions(predictions, model):\n",
    "    final_predict = for_prediction(predictions, model)\n",
    "\n",
    "    proba = pd.DataFrame(loaded_model.predict_proba(final_predict))\n",
    "    proba.columns = ['home_w', \"phome_w\"]\n",
    "    proba.loc[proba[\"phome_w\"] > .5, \"home_w\"] = 1\n",
    "    proba.loc[proba[\"phome_w\"] <= .5, \"home_w\"] = 0\n",
    "\n",
    "    results = pd.concat([predictions[[\"away\", \"home\", \"arena\", \"location\", \"time\", \"d_filter\"]], proba], axis=1)\n",
    "    results['home_w'] = results['home_w'].astype(int)\n",
    "    return results"
   ]
  },
  {
   "cell_type": "code",
   "execution_count": 671,
   "metadata": {
    "collapsed": true
   },
   "outputs": [],
   "source": [
    "def today_games_results(table, game_date_result):\n",
    "    win_loss = table.copy()\n",
    "    win_loss['game_date'] = pd.to_datetime(win_loss['GAME_DATE_EST'])\n",
    "    win_loss = win_loss[win_loss.game_date == game_date_result][[\"GAME_ID\", \"TEAM_NICKNAME\", \"PTS\", \"game_date\"]]\n",
    "    win_loss = pd.merge(win_loss.groupby(['GAME_ID']).first().reset_index(), win_loss.groupby(['GAME_ID']).last().reset_index(), \n",
    "             on=[\"GAME_ID\", \"game_date\"])\n",
    "    win_loss.columns = ['game_id', 'team_name_ta', 'pts_ta', 'game_date', 'team_name_tb', 'pts_tb']\n",
    "    win_loss = win_loss[['game_id', 'game_date', 'team_name_ta', 'team_name_tb', 'pts_ta', 'pts_tb']]\n",
    "    win_loss[\"predictions\"] = 0\n",
    "    win_loss.loc[(win_loss['pts_ta'] > win_loss['pts_tb']), \"predictions\"] = 1\n",
    "    return win_loss"
   ]
  },
  {
   "cell_type": "markdown",
   "metadata": {},
   "source": [
    "### Execute predictions "
   ]
  },
  {
   "cell_type": "code",
   "execution_count": 672,
   "metadata": {
    "collapsed": true
   },
   "outputs": [],
   "source": [
    "def for_prediction(dataframe, var):\n",
    "    \"\"\"This functions selects the variables required and make them into sklearn-ready formats! \"\"\"\n",
    "    # hackish way to create up the dataframe, haha... \n",
    "    dataframe['wl_ta'] = 1\n",
    "    y, x = dmatrices('wl_ta ~ ' + var, dataframe, return_type=\"dataframe\")\n",
    "    return x"
   ]
  },
  {
   "cell_type": "markdown",
   "metadata": {},
   "source": [
    "### The parameters of the best model! "
   ]
  },
  {
   "cell_type": "code",
   "execution_count": 673,
   "metadata": {
    "collapsed": true
   },
   "outputs": [],
   "source": [
    "model_9_ratio_vars = '''\n",
    "game_win_rates_ta + game_win_rates_tb + g_ta + g_tb + p_games_ta + p_games_tb + \n",
    "pts_ast_ta + pts_ast_tb + pts_ast_ta_opp + pts_ast_tb_opp + \n",
    "\n",
    "pts_ta + oreb_ta + dreb_ta + ast_ta + stl_ta + blk_ta + to_ta +\n",
    "pts_tb + oreb_tb + dreb_tb + ast_tb + stl_tb + blk_tb + to_tb + \n",
    "pts_ta_opp + oreb_ta_opp + dreb_ta_opp + ast_ta_opp + stl_ta_opp + blk_ta_opp + to_ta_opp +\n",
    "pts_tb_opp + oreb_tb_opp + dreb_tb_opp + ast_tb_opp + stl_tb_opp + blk_tb_opp + to_tb_opp +\n",
    "\n",
    "efg_ta + fgp_ta + efg_ta_opp + fgp_ta_opp + fta_fga_ta + fta_fga_ta_opp + fg3p_ta + ftp_ta + \n",
    "efg_tb + fgp_tb + efg_tb_opp + fgp_tb_opp + fta_fga_tb + fta_fga_tb_opp + fg3p_tb + ftp_tb\n",
    "'''"
   ]
  },
  {
   "cell_type": "markdown",
   "metadata": {},
   "source": [
    "### Predictions for today's games!"
   ]
  },
  {
   "cell_type": "code",
   "execution_count": 674,
   "metadata": {
    "collapsed": true
   },
   "outputs": [],
   "source": [
    "final_table['game_id'] = final_table['game_id'].astype(int)"
   ]
  },
  {
   "cell_type": "code",
   "execution_count": 675,
   "metadata": {
    "collapsed": true
   },
   "outputs": [],
   "source": [
    "# Drop out today's games for today's predictions\n",
    "today = final_table[final_table.game_date<=date_to_remove]"
   ]
  },
  {
   "cell_type": "markdown",
   "metadata": {},
   "source": [
    "### Load new day games for today's predictions"
   ]
  },
  {
   "cell_type": "code",
   "execution_count": 676,
   "metadata": {},
   "outputs": [
    {
     "data": {
      "text/html": [
       "<div>\n",
       "<style>\n",
       "    .dataframe thead tr:only-child th {\n",
       "        text-align: right;\n",
       "    }\n",
       "\n",
       "    .dataframe thead th {\n",
       "        text-align: left;\n",
       "    }\n",
       "\n",
       "    .dataframe tbody tr th {\n",
       "        vertical-align: top;\n",
       "    }\n",
       "</style>\n",
       "<table border=\"1\" class=\"dataframe\">\n",
       "  <thead>\n",
       "    <tr style=\"text-align: right;\">\n",
       "      <th></th>\n",
       "      <th>away</th>\n",
       "      <th>home</th>\n",
       "      <th>arena</th>\n",
       "      <th>location</th>\n",
       "      <th>time</th>\n",
       "      <th>date</th>\n",
       "      <th>d_filter</th>\n",
       "    </tr>\n",
       "  </thead>\n",
       "  <tbody>\n",
       "    <tr>\n",
       "      <th>783</th>\n",
       "      <td>Portland Trail Blazers</td>\n",
       "      <td>Boston Celtics</td>\n",
       "      <td>TD Garden</td>\n",
       "      <td>Boston, MA</td>\n",
       "      <td>12:00 PM ET</td>\n",
       "      <td>Sunday, February 4</td>\n",
       "      <td>04-02</td>\n",
       "    </tr>\n",
       "    <tr>\n",
       "      <th>784</th>\n",
       "      <td>Milwaukee Bucks</td>\n",
       "      <td>Brooklyn Nets</td>\n",
       "      <td>Barclays Center</td>\n",
       "      <td>Brooklyn, NY</td>\n",
       "      <td>12:00 PM ET</td>\n",
       "      <td>Sunday, February 4</td>\n",
       "      <td>04-02</td>\n",
       "    </tr>\n",
       "    <tr>\n",
       "      <th>785</th>\n",
       "      <td>Atlanta Hawks</td>\n",
       "      <td>New York Knicks</td>\n",
       "      <td>Madison Square Garden</td>\n",
       "      <td>New York, NY</td>\n",
       "      <td>12:00 PM ET</td>\n",
       "      <td>Sunday, February 4</td>\n",
       "      <td>04-02</td>\n",
       "    </tr>\n",
       "    <tr>\n",
       "      <th>786</th>\n",
       "      <td>Memphis Grizzlies</td>\n",
       "      <td>Toronto Raptors</td>\n",
       "      <td>Air Canada Centre</td>\n",
       "      <td>Toronto, ON</td>\n",
       "      <td>12:00 PM ET</td>\n",
       "      <td>Sunday, February 4</td>\n",
       "      <td>04-02</td>\n",
       "    </tr>\n",
       "    <tr>\n",
       "      <th>787</th>\n",
       "      <td>Los Angeles Lakers</td>\n",
       "      <td>Oklahoma City Thunder</td>\n",
       "      <td>Chesapeake Energy Arena</td>\n",
       "      <td>Oklahoma City, OK</td>\n",
       "      <td>2:00 PM ET</td>\n",
       "      <td>Sunday, February 4</td>\n",
       "      <td>04-02</td>\n",
       "    </tr>\n",
       "    <tr>\n",
       "      <th>788</th>\n",
       "      <td>Charlotte Hornets</td>\n",
       "      <td>Phoenix Suns</td>\n",
       "      <td>Talking Stick Resort Arena</td>\n",
       "      <td>Phoenix, AZ</td>\n",
       "      <td>3:00 PM ET</td>\n",
       "      <td>Sunday, February 4</td>\n",
       "      <td>04-02</td>\n",
       "    </tr>\n",
       "  </tbody>\n",
       "</table>\n",
       "</div>"
      ],
      "text/plain": [
       "                       away                   home  \\\n",
       "783  Portland Trail Blazers         Boston Celtics   \n",
       "784         Milwaukee Bucks          Brooklyn Nets   \n",
       "785           Atlanta Hawks        New York Knicks   \n",
       "786       Memphis Grizzlies        Toronto Raptors   \n",
       "787      Los Angeles Lakers  Oklahoma City Thunder   \n",
       "788       Charlotte Hornets           Phoenix Suns   \n",
       "\n",
       "                          arena           location         time  \\\n",
       "783                   TD Garden         Boston, MA  12:00 PM ET   \n",
       "784             Barclays Center       Brooklyn, NY  12:00 PM ET   \n",
       "785       Madison Square Garden       New York, NY  12:00 PM ET   \n",
       "786           Air Canada Centre        Toronto, ON  12:00 PM ET   \n",
       "787     Chesapeake Energy Arena  Oklahoma City, OK   2:00 PM ET   \n",
       "788  Talking Stick Resort Arena        Phoenix, AZ   3:00 PM ET   \n",
       "\n",
       "                   date d_filter  \n",
       "783  Sunday, February 4    04-02  \n",
       "784  Sunday, February 4    04-02  \n",
       "785  Sunday, February 4    04-02  \n",
       "786  Sunday, February 4    04-02  \n",
       "787  Sunday, February 4    04-02  \n",
       "788  Sunday, February 4    04-02  "
      ]
     },
     "execution_count": 676,
     "metadata": {},
     "output_type": "execute_result"
    }
   ],
   "source": [
    "schedule = pd.read_csv(\"2017_2018_nba_schedule.csv\")\n",
    "schedule['d_filter'] = [datetime.datetime.strptime(i, \"%A, %B %d\").strftime(\"%d-%m\") for i in schedule['date']]\n",
    "d_filter = date_to_remove.strftime(\"%d-%m\")\n",
    "predictions = schedule[schedule['d_filter'] == d_filter]\n",
    "predictions"
   ]
  },
  {
   "cell_type": "code",
   "execution_count": 677,
   "metadata": {
    "collapsed": true
   },
   "outputs": [],
   "source": [
    "today_predict_table = making_predict_table(predictions, today, ta_table, tb_table)"
   ]
  },
  {
   "cell_type": "code",
   "execution_count": 678,
   "metadata": {},
   "outputs": [
    {
     "data": {
      "text/html": [
       "<div>\n",
       "<style>\n",
       "    .dataframe thead tr:only-child th {\n",
       "        text-align: right;\n",
       "    }\n",
       "\n",
       "    .dataframe thead th {\n",
       "        text-align: left;\n",
       "    }\n",
       "\n",
       "    .dataframe tbody tr th {\n",
       "        vertical-align: top;\n",
       "    }\n",
       "</style>\n",
       "<table border=\"1\" class=\"dataframe\">\n",
       "  <thead>\n",
       "    <tr style=\"text-align: right;\">\n",
       "      <th></th>\n",
       "      <th>away</th>\n",
       "      <th>home</th>\n",
       "      <th>arena</th>\n",
       "      <th>location</th>\n",
       "      <th>time</th>\n",
       "      <th>d_filter</th>\n",
       "      <th>home_w</th>\n",
       "      <th>phome_w</th>\n",
       "    </tr>\n",
       "  </thead>\n",
       "  <tbody>\n",
       "    <tr>\n",
       "      <th>0</th>\n",
       "      <td>Portland Trail Blazers</td>\n",
       "      <td>Boston Celtics</td>\n",
       "      <td>TD Garden</td>\n",
       "      <td>Boston, MA</td>\n",
       "      <td>12:00 PM ET</td>\n",
       "      <td>04-02</td>\n",
       "      <td>1</td>\n",
       "      <td>0.75</td>\n",
       "    </tr>\n",
       "    <tr>\n",
       "      <th>1</th>\n",
       "      <td>Milwaukee Bucks</td>\n",
       "      <td>Brooklyn Nets</td>\n",
       "      <td>Barclays Center</td>\n",
       "      <td>Brooklyn, NY</td>\n",
       "      <td>12:00 PM ET</td>\n",
       "      <td>04-02</td>\n",
       "      <td>0</td>\n",
       "      <td>0.45</td>\n",
       "    </tr>\n",
       "    <tr>\n",
       "      <th>2</th>\n",
       "      <td>Atlanta Hawks</td>\n",
       "      <td>New York Knicks</td>\n",
       "      <td>Madison Square Garden</td>\n",
       "      <td>New York, NY</td>\n",
       "      <td>12:00 PM ET</td>\n",
       "      <td>04-02</td>\n",
       "      <td>1</td>\n",
       "      <td>0.73</td>\n",
       "    </tr>\n",
       "    <tr>\n",
       "      <th>3</th>\n",
       "      <td>Memphis Grizzlies</td>\n",
       "      <td>Toronto Raptors</td>\n",
       "      <td>Air Canada Centre</td>\n",
       "      <td>Toronto, ON</td>\n",
       "      <td>12:00 PM ET</td>\n",
       "      <td>04-02</td>\n",
       "      <td>1</td>\n",
       "      <td>0.85</td>\n",
       "    </tr>\n",
       "    <tr>\n",
       "      <th>4</th>\n",
       "      <td>Los Angeles Lakers</td>\n",
       "      <td>Oklahoma City Thunder</td>\n",
       "      <td>Chesapeake Energy Arena</td>\n",
       "      <td>Oklahoma City, OK</td>\n",
       "      <td>2:00 PM ET</td>\n",
       "      <td>04-02</td>\n",
       "      <td>1</td>\n",
       "      <td>0.80</td>\n",
       "    </tr>\n",
       "    <tr>\n",
       "      <th>5</th>\n",
       "      <td>Charlotte Hornets</td>\n",
       "      <td>Phoenix Suns</td>\n",
       "      <td>Talking Stick Resort Arena</td>\n",
       "      <td>Phoenix, AZ</td>\n",
       "      <td>3:00 PM ET</td>\n",
       "      <td>04-02</td>\n",
       "      <td>0</td>\n",
       "      <td>0.43</td>\n",
       "    </tr>\n",
       "  </tbody>\n",
       "</table>\n",
       "</div>"
      ],
      "text/plain": [
       "                     away                   home                       arena  \\\n",
       "0  Portland Trail Blazers         Boston Celtics                   TD Garden   \n",
       "1         Milwaukee Bucks          Brooklyn Nets             Barclays Center   \n",
       "2           Atlanta Hawks        New York Knicks       Madison Square Garden   \n",
       "3       Memphis Grizzlies        Toronto Raptors           Air Canada Centre   \n",
       "4      Los Angeles Lakers  Oklahoma City Thunder     Chesapeake Energy Arena   \n",
       "5       Charlotte Hornets           Phoenix Suns  Talking Stick Resort Arena   \n",
       "\n",
       "            location         time d_filter  home_w  phome_w  \n",
       "0         Boston, MA  12:00 PM ET    04-02       1     0.75  \n",
       "1       Brooklyn, NY  12:00 PM ET    04-02       0     0.45  \n",
       "2       New York, NY  12:00 PM ET    04-02       1     0.73  \n",
       "3        Toronto, ON  12:00 PM ET    04-02       1     0.85  \n",
       "4  Oklahoma City, OK   2:00 PM ET    04-02       1     0.80  \n",
       "5        Phoenix, AZ   3:00 PM ET    04-02       0     0.43  "
      ]
     },
     "execution_count": 678,
     "metadata": {},
     "output_type": "execute_result"
    }
   ],
   "source": [
    "today_predict = making_predictions(today_predict_table, model_9_ratio_vars)\n",
    "today_predict"
   ]
  },
  {
   "cell_type": "markdown",
   "metadata": {},
   "source": [
    "### Today's actual games played!"
   ]
  },
  {
   "cell_type": "code",
   "execution_count": 679,
   "metadata": {},
   "outputs": [
    {
     "data": {
      "text/html": [
       "<div>\n",
       "<style>\n",
       "    .dataframe thead tr:only-child th {\n",
       "        text-align: right;\n",
       "    }\n",
       "\n",
       "    .dataframe thead th {\n",
       "        text-align: left;\n",
       "    }\n",
       "\n",
       "    .dataframe tbody tr th {\n",
       "        vertical-align: top;\n",
       "    }\n",
       "</style>\n",
       "<table border=\"1\" class=\"dataframe\">\n",
       "  <thead>\n",
       "    <tr style=\"text-align: right;\">\n",
       "      <th></th>\n",
       "      <th>game_id</th>\n",
       "      <th>game_date</th>\n",
       "      <th>team_name_ta</th>\n",
       "      <th>team_name_tb</th>\n",
       "      <th>pts_ta</th>\n",
       "      <th>pts_tb</th>\n",
       "      <th>predictions</th>\n",
       "    </tr>\n",
       "  </thead>\n",
       "  <tbody>\n",
       "    <tr>\n",
       "      <th>0</th>\n",
       "      <td>21700784</td>\n",
       "      <td>2018-02-04</td>\n",
       "      <td>Celtics</td>\n",
       "      <td>Trail Blazers</td>\n",
       "      <td>97</td>\n",
       "      <td>96</td>\n",
       "      <td>1</td>\n",
       "    </tr>\n",
       "    <tr>\n",
       "      <th>1</th>\n",
       "      <td>21700785</td>\n",
       "      <td>2018-02-04</td>\n",
       "      <td>Nets</td>\n",
       "      <td>Bucks</td>\n",
       "      <td>94</td>\n",
       "      <td>109</td>\n",
       "      <td>0</td>\n",
       "    </tr>\n",
       "    <tr>\n",
       "      <th>2</th>\n",
       "      <td>21700786</td>\n",
       "      <td>2018-02-04</td>\n",
       "      <td>Knicks</td>\n",
       "      <td>Hawks</td>\n",
       "      <td>96</td>\n",
       "      <td>99</td>\n",
       "      <td>0</td>\n",
       "    </tr>\n",
       "    <tr>\n",
       "      <th>3</th>\n",
       "      <td>21700787</td>\n",
       "      <td>2018-02-04</td>\n",
       "      <td>Raptors</td>\n",
       "      <td>Grizzlies</td>\n",
       "      <td>101</td>\n",
       "      <td>86</td>\n",
       "      <td>1</td>\n",
       "    </tr>\n",
       "    <tr>\n",
       "      <th>4</th>\n",
       "      <td>21700788</td>\n",
       "      <td>2018-02-04</td>\n",
       "      <td>Thunder</td>\n",
       "      <td>Lakers</td>\n",
       "      <td>104</td>\n",
       "      <td>108</td>\n",
       "      <td>0</td>\n",
       "    </tr>\n",
       "    <tr>\n",
       "      <th>5</th>\n",
       "      <td>21700789</td>\n",
       "      <td>2018-02-04</td>\n",
       "      <td>Suns</td>\n",
       "      <td>Hornets</td>\n",
       "      <td>110</td>\n",
       "      <td>115</td>\n",
       "      <td>0</td>\n",
       "    </tr>\n",
       "  </tbody>\n",
       "</table>\n",
       "</div>"
      ],
      "text/plain": [
       "    game_id  game_date team_name_ta   team_name_tb  pts_ta  pts_tb  \\\n",
       "0  21700784 2018-02-04      Celtics  Trail Blazers      97      96   \n",
       "1  21700785 2018-02-04         Nets          Bucks      94     109   \n",
       "2  21700786 2018-02-04       Knicks          Hawks      96      99   \n",
       "3  21700787 2018-02-04      Raptors      Grizzlies     101      86   \n",
       "4  21700788 2018-02-04      Thunder         Lakers     104     108   \n",
       "5  21700789 2018-02-04         Suns        Hornets     110     115   \n",
       "\n",
       "   predictions  \n",
       "0            1  \n",
       "1            0  \n",
       "2            0  \n",
       "3            1  \n",
       "4            0  \n",
       "5            0  "
      ]
     },
     "execution_count": 679,
     "metadata": {},
     "output_type": "execute_result"
    }
   ],
   "source": [
    "today_games = today_games_results(win_loss_csv, date_to_remove)\n",
    "today_games"
   ]
  },
  {
   "cell_type": "markdown",
   "metadata": {},
   "source": [
    "### Comparing final results with output! "
   ]
  },
  {
   "cell_type": "code",
   "execution_count": 680,
   "metadata": {
    "collapsed": true
   },
   "outputs": [],
   "source": [
    "today_predict['team_name_ta'] = [i.split(\" \")[-1] for i in today_predict[\"home\"]]\n",
    "today_predict['team_name_tb'] = [i.split(\" \")[-1] for i in today_predict[\"away\"]]\n",
    "today_predict['team_name_ta'].replace(\"Blazers\", \"Trail Blazers\", inplace=True)\n",
    "today_predict['team_name_tb'].replace(\"Blazers\", \"Trail Blazers\", inplace=True)"
   ]
  },
  {
   "cell_type": "code",
   "execution_count": 681,
   "metadata": {},
   "outputs": [
    {
     "data": {
      "text/html": [
       "<div>\n",
       "<style>\n",
       "    .dataframe thead tr:only-child th {\n",
       "        text-align: right;\n",
       "    }\n",
       "\n",
       "    .dataframe thead th {\n",
       "        text-align: left;\n",
       "    }\n",
       "\n",
       "    .dataframe tbody tr th {\n",
       "        vertical-align: top;\n",
       "    }\n",
       "</style>\n",
       "<table border=\"1\" class=\"dataframe\">\n",
       "  <thead>\n",
       "    <tr style=\"text-align: right;\">\n",
       "      <th></th>\n",
       "      <th>away</th>\n",
       "      <th>home</th>\n",
       "      <th>location</th>\n",
       "      <th>home_w</th>\n",
       "      <th>phome_w</th>\n",
       "      <th>predictions</th>\n",
       "      <th>d_filter</th>\n",
       "      <th>pts_ta</th>\n",
       "      <th>pts_tb</th>\n",
       "      <th>p_score</th>\n",
       "    </tr>\n",
       "  </thead>\n",
       "  <tbody>\n",
       "    <tr>\n",
       "      <th>0</th>\n",
       "      <td>Portland Trail Blazers</td>\n",
       "      <td>Boston Celtics</td>\n",
       "      <td>Boston, MA</td>\n",
       "      <td>1</td>\n",
       "      <td>0.75</td>\n",
       "      <td>1</td>\n",
       "      <td>04-02</td>\n",
       "      <td>97</td>\n",
       "      <td>96</td>\n",
       "      <td>1</td>\n",
       "    </tr>\n",
       "    <tr>\n",
       "      <th>1</th>\n",
       "      <td>Milwaukee Bucks</td>\n",
       "      <td>Brooklyn Nets</td>\n",
       "      <td>Brooklyn, NY</td>\n",
       "      <td>0</td>\n",
       "      <td>0.45</td>\n",
       "      <td>0</td>\n",
       "      <td>04-02</td>\n",
       "      <td>94</td>\n",
       "      <td>109</td>\n",
       "      <td>1</td>\n",
       "    </tr>\n",
       "    <tr>\n",
       "      <th>2</th>\n",
       "      <td>Atlanta Hawks</td>\n",
       "      <td>New York Knicks</td>\n",
       "      <td>New York, NY</td>\n",
       "      <td>1</td>\n",
       "      <td>0.73</td>\n",
       "      <td>0</td>\n",
       "      <td>04-02</td>\n",
       "      <td>96</td>\n",
       "      <td>99</td>\n",
       "      <td>0</td>\n",
       "    </tr>\n",
       "    <tr>\n",
       "      <th>3</th>\n",
       "      <td>Memphis Grizzlies</td>\n",
       "      <td>Toronto Raptors</td>\n",
       "      <td>Toronto, ON</td>\n",
       "      <td>1</td>\n",
       "      <td>0.85</td>\n",
       "      <td>1</td>\n",
       "      <td>04-02</td>\n",
       "      <td>101</td>\n",
       "      <td>86</td>\n",
       "      <td>1</td>\n",
       "    </tr>\n",
       "    <tr>\n",
       "      <th>4</th>\n",
       "      <td>Los Angeles Lakers</td>\n",
       "      <td>Oklahoma City Thunder</td>\n",
       "      <td>Oklahoma City, OK</td>\n",
       "      <td>1</td>\n",
       "      <td>0.80</td>\n",
       "      <td>0</td>\n",
       "      <td>04-02</td>\n",
       "      <td>104</td>\n",
       "      <td>108</td>\n",
       "      <td>0</td>\n",
       "    </tr>\n",
       "    <tr>\n",
       "      <th>5</th>\n",
       "      <td>Charlotte Hornets</td>\n",
       "      <td>Phoenix Suns</td>\n",
       "      <td>Phoenix, AZ</td>\n",
       "      <td>0</td>\n",
       "      <td>0.43</td>\n",
       "      <td>0</td>\n",
       "      <td>04-02</td>\n",
       "      <td>110</td>\n",
       "      <td>115</td>\n",
       "      <td>1</td>\n",
       "    </tr>\n",
       "  </tbody>\n",
       "</table>\n",
       "</div>"
      ],
      "text/plain": [
       "                     away                   home           location  home_w  \\\n",
       "0  Portland Trail Blazers         Boston Celtics         Boston, MA       1   \n",
       "1         Milwaukee Bucks          Brooklyn Nets       Brooklyn, NY       0   \n",
       "2           Atlanta Hawks        New York Knicks       New York, NY       1   \n",
       "3       Memphis Grizzlies        Toronto Raptors        Toronto, ON       1   \n",
       "4      Los Angeles Lakers  Oklahoma City Thunder  Oklahoma City, OK       1   \n",
       "5       Charlotte Hornets           Phoenix Suns        Phoenix, AZ       0   \n",
       "\n",
       "   phome_w  predictions d_filter  pts_ta  pts_tb  p_score  \n",
       "0     0.75            1    04-02      97      96        1  \n",
       "1     0.45            0    04-02      94     109        1  \n",
       "2     0.73            0    04-02      96      99        0  \n",
       "3     0.85            1    04-02     101      86        1  \n",
       "4     0.80            0    04-02     104     108        0  \n",
       "5     0.43            0    04-02     110     115        1  "
      ]
     },
     "execution_count": 681,
     "metadata": {},
     "output_type": "execute_result"
    }
   ],
   "source": [
    "ffinal = pd.merge(today_predict, today_games, on=['team_name_ta', 'team_name_tb'], how='left')\n",
    "ffinal = ffinal[[\"away\", 'home', 'location', 'home_w', \"phome_w\", 'predictions', 'd_filter', 'pts_ta', 'pts_tb']]\n",
    "ffinal['p_score'] = 1\n",
    "ffinal.loc[ffinal['predictions'] != ffinal['home_w'], 'p_score'] = 0\n",
    "ffinal"
   ]
  },
  {
   "cell_type": "code",
   "execution_count": 682,
   "metadata": {},
   "outputs": [
    {
     "data": {
      "text/plain": [
       "0.6666666666666666"
      ]
     },
     "execution_count": 682,
     "metadata": {},
     "output_type": "execute_result"
    }
   ],
   "source": [
    "ffinal['p_score'].sum() / float(len(ffinal))"
   ]
  },
  {
   "cell_type": "code",
   "execution_count": 683,
   "metadata": {
    "collapsed": true
   },
   "outputs": [],
   "source": [
    "ffinal.to_csv(\"predict/{}_predictions.csv\".format(date_to_remove), index=False)"
   ]
  },
  {
   "cell_type": "markdown",
   "metadata": {},
   "source": [
    "### Load prediction into Dropbox "
   ]
  },
  {
   "cell_type": "code",
   "execution_count": 30,
   "metadata": {},
   "outputs": [
    {
     "name": "stdout",
     "output_type": "stream",
     "text": [
      "Upload 2018-01-04_predictions.csv\n"
     ]
    }
   ],
   "source": [
    "os.chdir(base_folder + \"/predict\")\n",
    "load_file_into_my_dropbox(account, \"{}_predictions.csv\".format(date_to_remove), folder=\"nba games/predictions/\")\n",
    "print(\"Upload {}_predictions.csv\".format(date_to_remove))\n",
    "os.chdir(base_folder)"
   ]
  },
  {
   "cell_type": "markdown",
   "metadata": {},
   "source": [
    "## Next game's predictions!"
   ]
  },
  {
   "cell_type": "code",
   "execution_count": 31,
   "metadata": {},
   "outputs": [
    {
     "data": {
      "text/html": [
       "<div>\n",
       "<style>\n",
       "    .dataframe thead tr:only-child th {\n",
       "        text-align: right;\n",
       "    }\n",
       "\n",
       "    .dataframe thead th {\n",
       "        text-align: left;\n",
       "    }\n",
       "\n",
       "    .dataframe tbody tr th {\n",
       "        vertical-align: top;\n",
       "    }\n",
       "</style>\n",
       "<table border=\"1\" class=\"dataframe\">\n",
       "  <thead>\n",
       "    <tr style=\"text-align: right;\">\n",
       "      <th></th>\n",
       "      <th>away</th>\n",
       "      <th>home</th>\n",
       "      <th>arena</th>\n",
       "      <th>location</th>\n",
       "      <th>time</th>\n",
       "      <th>date</th>\n",
       "      <th>d_filter</th>\n",
       "    </tr>\n",
       "  </thead>\n",
       "  <tbody>\n",
       "    <tr>\n",
       "      <th>567</th>\n",
       "      <td>New York Knicks</td>\n",
       "      <td>Miami Heat</td>\n",
       "      <td>AmericanAirlines Arena</td>\n",
       "      <td>Miami, FL</td>\n",
       "      <td>7:00 PM ET</td>\n",
       "      <td>Friday, January 5</td>\n",
       "      <td>05-01</td>\n",
       "    </tr>\n",
       "    <tr>\n",
       "      <th>568</th>\n",
       "      <td>Detroit Pistons</td>\n",
       "      <td>Philadelphia 76ers</td>\n",
       "      <td>Wells Fargo Center</td>\n",
       "      <td>Philadelphia, PA</td>\n",
       "      <td>7:00 PM ET</td>\n",
       "      <td>Friday, January 5</td>\n",
       "      <td>05-01</td>\n",
       "    </tr>\n",
       "    <tr>\n",
       "      <th>569</th>\n",
       "      <td>Minnesota Timberwolves</td>\n",
       "      <td>Boston Celtics</td>\n",
       "      <td>TD Garden</td>\n",
       "      <td>Boston, MA</td>\n",
       "      <td>7:30 PM ET</td>\n",
       "      <td>Friday, January 5</td>\n",
       "      <td>05-01</td>\n",
       "    </tr>\n",
       "    <tr>\n",
       "      <th>570</th>\n",
       "      <td>Toronto Raptors</td>\n",
       "      <td>Milwaukee Bucks</td>\n",
       "      <td>BMO Harris Bradley Center</td>\n",
       "      <td>Milwaukee, WI</td>\n",
       "      <td>8:00 PM ET</td>\n",
       "      <td>Friday, January 5</td>\n",
       "      <td>05-01</td>\n",
       "    </tr>\n",
       "    <tr>\n",
       "      <th>571</th>\n",
       "      <td>Chicago Bulls</td>\n",
       "      <td>Dallas Mavericks</td>\n",
       "      <td>American Airlines Center</td>\n",
       "      <td>Dallas, TX</td>\n",
       "      <td>8:30 PM ET</td>\n",
       "      <td>Friday, January 5</td>\n",
       "      <td>05-01</td>\n",
       "    </tr>\n",
       "    <tr>\n",
       "      <th>572</th>\n",
       "      <td>Phoenix Suns</td>\n",
       "      <td>San Antonio Spurs</td>\n",
       "      <td>AT&amp;T Center</td>\n",
       "      <td>San Antonio, TX</td>\n",
       "      <td>8:30 PM ET</td>\n",
       "      <td>Friday, January 5</td>\n",
       "      <td>05-01</td>\n",
       "    </tr>\n",
       "    <tr>\n",
       "      <th>573</th>\n",
       "      <td>Utah Jazz</td>\n",
       "      <td>Denver Nuggets</td>\n",
       "      <td>Pepsi Center</td>\n",
       "      <td>Denver, CO</td>\n",
       "      <td>9:00 PM ET</td>\n",
       "      <td>Friday, January 5</td>\n",
       "      <td>05-01</td>\n",
       "    </tr>\n",
       "    <tr>\n",
       "      <th>574</th>\n",
       "      <td>Washington Wizards</td>\n",
       "      <td>Memphis Grizzlies</td>\n",
       "      <td>FedExForum</td>\n",
       "      <td>Memphis, TN</td>\n",
       "      <td>9:30 PM ET</td>\n",
       "      <td>Friday, January 5</td>\n",
       "      <td>05-01</td>\n",
       "    </tr>\n",
       "    <tr>\n",
       "      <th>575</th>\n",
       "      <td>Atlanta Hawks</td>\n",
       "      <td>Portland Trail Blazers</td>\n",
       "      <td>Moda Center</td>\n",
       "      <td>Portland, OR</td>\n",
       "      <td>10:00 PM ET</td>\n",
       "      <td>Friday, January 5</td>\n",
       "      <td>05-01</td>\n",
       "    </tr>\n",
       "    <tr>\n",
       "      <th>576</th>\n",
       "      <td>Charlotte Hornets</td>\n",
       "      <td>Los Angeles Lakers</td>\n",
       "      <td>Staples Center</td>\n",
       "      <td>Los Angeles, CA</td>\n",
       "      <td>10:30 PM ET</td>\n",
       "      <td>Friday, January 5</td>\n",
       "      <td>05-01</td>\n",
       "    </tr>\n",
       "  </tbody>\n",
       "</table>\n",
       "</div>"
      ],
      "text/plain": [
       "                       away                    home  \\\n",
       "567         New York Knicks              Miami Heat   \n",
       "568         Detroit Pistons      Philadelphia 76ers   \n",
       "569  Minnesota Timberwolves          Boston Celtics   \n",
       "570         Toronto Raptors         Milwaukee Bucks   \n",
       "571           Chicago Bulls        Dallas Mavericks   \n",
       "572            Phoenix Suns       San Antonio Spurs   \n",
       "573               Utah Jazz          Denver Nuggets   \n",
       "574      Washington Wizards       Memphis Grizzlies   \n",
       "575           Atlanta Hawks  Portland Trail Blazers   \n",
       "576       Charlotte Hornets      Los Angeles Lakers   \n",
       "\n",
       "                         arena          location         time  \\\n",
       "567     AmericanAirlines Arena         Miami, FL   7:00 PM ET   \n",
       "568         Wells Fargo Center  Philadelphia, PA   7:00 PM ET   \n",
       "569                  TD Garden        Boston, MA   7:30 PM ET   \n",
       "570  BMO Harris Bradley Center     Milwaukee, WI   8:00 PM ET   \n",
       "571   American Airlines Center        Dallas, TX   8:30 PM ET   \n",
       "572                AT&T Center   San Antonio, TX   8:30 PM ET   \n",
       "573               Pepsi Center        Denver, CO   9:00 PM ET   \n",
       "574                 FedExForum       Memphis, TN   9:30 PM ET   \n",
       "575                Moda Center      Portland, OR  10:00 PM ET   \n",
       "576             Staples Center   Los Angeles, CA  10:30 PM ET   \n",
       "\n",
       "                  date d_filter  \n",
       "567  Friday, January 5    05-01  \n",
       "568  Friday, January 5    05-01  \n",
       "569  Friday, January 5    05-01  \n",
       "570  Friday, January 5    05-01  \n",
       "571  Friday, January 5    05-01  \n",
       "572  Friday, January 5    05-01  \n",
       "573  Friday, January 5    05-01  \n",
       "574  Friday, January 5    05-01  \n",
       "575  Friday, January 5    05-01  \n",
       "576  Friday, January 5    05-01  "
      ]
     },
     "execution_count": 31,
     "metadata": {},
     "output_type": "execute_result"
    }
   ],
   "source": [
    "next_day = (date_to_remove + datetime.timedelta(days=1)).strftime(\"%d-%m\")\n",
    "next_day_predict = schedule[schedule['d_filter'] == next_day]\n",
    "next_day_predict"
   ]
  },
  {
   "cell_type": "code",
   "execution_count": 32,
   "metadata": {
    "collapsed": true
   },
   "outputs": [],
   "source": [
    "next_day_predict_table = making_predict_table(next_day_predict, final_table, ta_table, tb_table)"
   ]
  },
  {
   "cell_type": "code",
   "execution_count": null,
   "metadata": {
    "collapsed": true
   },
   "outputs": [],
   "source": [
    "tmr_predict = making_predictions(next_day_predict_table, model_9_ratio_vars)\n",
    "tmr_predict"
   ]
  },
  {
   "cell_type": "code",
   "execution_count": null,
   "metadata": {
    "collapsed": true
   },
   "outputs": [],
   "source": [
    "os.chdir(base_folder)\n",
    "os.chdir(\"..\")\n",
    "os.getcwd()\n",
    "tmr_predict.to_html('predictions.html')"
   ]
  }
 ],
 "metadata": {
  "kernelspec": {
   "display_name": "Python 2",
   "language": "python",
   "name": "python2"
  },
  "language_info": {
   "codemirror_mode": {
    "name": "ipython",
    "version": 2
   },
   "file_extension": ".py",
   "mimetype": "text/x-python",
   "name": "python",
   "nbconvert_exporter": "python",
   "pygments_lexer": "ipython2",
   "version": "2.7.13"
  }
 },
 "nbformat": 4,
 "nbformat_minor": 2
}
