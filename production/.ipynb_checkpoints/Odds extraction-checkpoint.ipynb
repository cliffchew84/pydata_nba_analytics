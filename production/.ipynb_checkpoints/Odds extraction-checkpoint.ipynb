{
 "cells": [
  {
   "cell_type": "code",
   "execution_count": null,
   "metadata": {
    "collapsed": true
   },
   "outputs": [],
   "source": [
    "from bs4 import BeautifulSoup as bs\n",
    "import pandas as pd\n",
    "import datetime\n",
    "import warnings\n",
    "import requests\n",
    "import json\n",
    "import sys\n",
    "import os\n",
    "\n",
    "pd.set_option('display.max_columns', 500)\n",
    "warnings.filterwarnings('ignore')"
   ]
  },
  {
   "cell_type": "code",
   "execution_count": null,
   "metadata": {
    "collapsed": true
   },
   "outputs": [],
   "source": [
    "from selenium.webdriver.firefox.firefox_binary import FirefoxBinary\n",
    "from selenium.webdriver.common.proxy import Proxy, ProxyType\n",
    "from selenium import webdriver\n",
    "\n",
    "proxy_address = \"127.0.0.1:9150\"\n",
    "\n",
    "# Setting up my Tor initialization\n",
    "if sys.platform==\"win32\":\n",
    "    tor = r'C:\\Users\\cliffchew84\\Desktop\\Tor Browser\\Browser\\firefox'\n",
    "else:\n",
    "    tor = r'/Applications/TorBrowser.app/Contents/MacOS/firefox'"
   ]
  },
  {
   "cell_type": "code",
   "execution_count": null,
   "metadata": {
    "collapsed": true
   },
   "outputs": [],
   "source": [
    "if sys.platform==\"win32\":\n",
    "    browser = webdriver.Chrome('C:\\Users\\cliffchew84\\Desktop\\chromedriver_win32\\chromedriver.exe')\n",
    "else:\n",
    "    firefox_binary = FirefoxBinary(tor)\n",
    "    browser = webdriver.Firefox(firefox_binary=firefox_binary)"
   ]
  },
  {
   "cell_type": "code",
   "execution_count": null,
   "metadata": {
    "collapsed": true
   },
   "outputs": [],
   "source": [
    "test_page = \"https://www.pinnacle.com/en/odds/match/basketball/usa/nba?sport=True\""
   ]
  },
  {
   "cell_type": "code",
   "execution_count": null,
   "metadata": {
    "collapsed": true
   },
   "outputs": [],
   "source": [
    "browser.get(test_page)\n",
    "soup = bs(browser.page_source)"
   ]
  }
 ],
 "metadata": {
  "kernelspec": {
   "display_name": "Python 2",
   "language": "python",
   "name": "python2"
  },
  "language_info": {
   "codemirror_mode": {
    "name": "ipython",
    "version": 2
   },
   "file_extension": ".py",
   "mimetype": "text/x-python",
   "name": "python",
   "nbconvert_exporter": "python",
   "pygments_lexer": "ipython2",
   "version": "2.7.8"
  }
 },
 "nbformat": 4,
 "nbformat_minor": 2
}
